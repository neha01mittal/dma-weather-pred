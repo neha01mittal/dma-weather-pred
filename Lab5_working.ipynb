{
 "cells": [
  {
   "cell_type": "markdown",
   "metadata": {},
   "source": [
    "### LAB 5 [WORKING COPY]"
   ]
  },
  {
   "cell_type": "code",
   "execution_count": 1,
   "metadata": {
    "collapsed": true
   },
   "outputs": [],
   "source": [
    "import sklearn\n",
    "import matplotlib.pyplot as plt\n",
    "from typing import Tuple\n",
    "from typing import List\n",
    "\n",
    "%matplotlib inline\n",
    "\n",
    "import numpy as np\n",
    "import pandas as pd\n",
    "import scipy\n",
    "import pandas as pd \n",
    "from sklearn import linear_model\n",
    "from sklearn.model_selection import train_test_split, GridSearchCV, cross_val_score\n",
    "from sklearn.ensemble import RandomForestClassifier\n",
    "from sklearn.metrics import confusion_matrix\n",
    "from sklearn.metrics import roc_curve, auc, classification_report, precision_recall_curve, average_precision_score\n",
    "import matplotlib\n",
    "import matplotlib.pyplot as plt\n",
    "from IPython.display import display, HTML\n",
    "from sklearn.metrics import precision_recall_curve\n",
    "from sklearn.ensemble import GradientBoostingClassifier"
   ]
  },
  {
   "cell_type": "code",
   "execution_count": 2,
   "metadata": {},
   "outputs": [
    {
     "data": {
      "text/html": [
       "<div>\n",
       "<style>\n",
       "    .dataframe thead tr:only-child th {\n",
       "        text-align: right;\n",
       "    }\n",
       "\n",
       "    .dataframe thead th {\n",
       "        text-align: left;\n",
       "    }\n",
       "\n",
       "    .dataframe tbody tr th {\n",
       "        vertical-align: top;\n",
       "    }\n",
       "</style>\n",
       "<table border=\"1\" class=\"dataframe\">\n",
       "  <thead>\n",
       "    <tr style=\"text-align: right;\">\n",
       "      <th></th>\n",
       "      <th>0</th>\n",
       "      <th>1</th>\n",
       "      <th>2</th>\n",
       "      <th>3</th>\n",
       "      <th>4</th>\n",
       "      <th>5</th>\n",
       "      <th>6</th>\n",
       "      <th>7</th>\n",
       "    </tr>\n",
       "  </thead>\n",
       "  <tbody>\n",
       "    <tr>\n",
       "      <th>0</th>\n",
       "      <td>ASN00015643</td>\n",
       "      <td>20140101</td>\n",
       "      <td>TMIN</td>\n",
       "      <td>227</td>\n",
       "      <td>NaN</td>\n",
       "      <td>NaN</td>\n",
       "      <td>a</td>\n",
       "      <td>NaN</td>\n",
       "    </tr>\n",
       "    <tr>\n",
       "      <th>1</th>\n",
       "      <td>ASN00085296</td>\n",
       "      <td>20140101</td>\n",
       "      <td>TMIN</td>\n",
       "      <td>131</td>\n",
       "      <td>NaN</td>\n",
       "      <td>NaN</td>\n",
       "      <td>a</td>\n",
       "      <td>NaN</td>\n",
       "    </tr>\n",
       "    <tr>\n",
       "      <th>2</th>\n",
       "      <td>ASN00085280</td>\n",
       "      <td>20140101</td>\n",
       "      <td>TMIN</td>\n",
       "      <td>84</td>\n",
       "      <td>NaN</td>\n",
       "      <td>NaN</td>\n",
       "      <td>a</td>\n",
       "      <td>NaN</td>\n",
       "    </tr>\n",
       "    <tr>\n",
       "      <th>3</th>\n",
       "      <td>CA005030984</td>\n",
       "      <td>20140101</td>\n",
       "      <td>TMIN</td>\n",
       "      <td>-315</td>\n",
       "      <td>NaN</td>\n",
       "      <td>NaN</td>\n",
       "      <td>C</td>\n",
       "      <td>NaN</td>\n",
       "    </tr>\n",
       "    <tr>\n",
       "      <th>4</th>\n",
       "      <td>CA003076680</td>\n",
       "      <td>20140101</td>\n",
       "      <td>TMIN</td>\n",
       "      <td>-207</td>\n",
       "      <td>NaN</td>\n",
       "      <td>NaN</td>\n",
       "      <td>C</td>\n",
       "      <td>NaN</td>\n",
       "    </tr>\n",
       "    <tr>\n",
       "      <th>5</th>\n",
       "      <td>CA003072151</td>\n",
       "      <td>20140101</td>\n",
       "      <td>TMIN</td>\n",
       "      <td>-258</td>\n",
       "      <td>NaN</td>\n",
       "      <td>NaN</td>\n",
       "      <td>C</td>\n",
       "      <td>NaN</td>\n",
       "    </tr>\n",
       "    <tr>\n",
       "      <th>6</th>\n",
       "      <td>CA003031094</td>\n",
       "      <td>20140101</td>\n",
       "      <td>TMIN</td>\n",
       "      <td>-96</td>\n",
       "      <td>NaN</td>\n",
       "      <td>NaN</td>\n",
       "      <td>C</td>\n",
       "      <td>NaN</td>\n",
       "    </tr>\n",
       "    <tr>\n",
       "      <th>7</th>\n",
       "      <td>ASN00068151</td>\n",
       "      <td>20140101</td>\n",
       "      <td>TMIN</td>\n",
       "      <td>172</td>\n",
       "      <td>NaN</td>\n",
       "      <td>NaN</td>\n",
       "      <td>a</td>\n",
       "      <td>NaN</td>\n",
       "    </tr>\n",
       "    <tr>\n",
       "      <th>8</th>\n",
       "      <td>ARM00087582</td>\n",
       "      <td>20140101</td>\n",
       "      <td>TMIN</td>\n",
       "      <td>228</td>\n",
       "      <td>NaN</td>\n",
       "      <td>NaN</td>\n",
       "      <td>S</td>\n",
       "      <td>NaN</td>\n",
       "    </tr>\n",
       "    <tr>\n",
       "      <th>9</th>\n",
       "      <td>USW00024061</td>\n",
       "      <td>20140101</td>\n",
       "      <td>TMIN</td>\n",
       "      <td>-93</td>\n",
       "      <td>NaN</td>\n",
       "      <td>NaN</td>\n",
       "      <td>W</td>\n",
       "      <td>NaN</td>\n",
       "    </tr>\n",
       "  </tbody>\n",
       "</table>\n",
       "</div>"
      ],
      "text/plain": [
       "             0         1     2    3    4    5  6   7\n",
       "0  ASN00015643  20140101  TMIN  227  NaN  NaN  a NaN\n",
       "1  ASN00085296  20140101  TMIN  131  NaN  NaN  a NaN\n",
       "2  ASN00085280  20140101  TMIN   84  NaN  NaN  a NaN\n",
       "3  CA005030984  20140101  TMIN -315  NaN  NaN  C NaN\n",
       "4  CA003076680  20140101  TMIN -207  NaN  NaN  C NaN\n",
       "5  CA003072151  20140101  TMIN -258  NaN  NaN  C NaN\n",
       "6  CA003031094  20140101  TMIN  -96  NaN  NaN  C NaN\n",
       "7  ASN00068151  20140101  TMIN  172  NaN  NaN  a NaN\n",
       "8  ARM00087582  20140101  TMIN  228  NaN  NaN  S NaN\n",
       "9  USW00024061  20140101  TMIN  -93  NaN  NaN  W NaN"
      ]
     },
     "execution_count": 2,
     "metadata": {},
     "output_type": "execute_result"
    }
   ],
   "source": [
    "# df_2017 = pd.read_csv(\"data/2017.csv.gz\",low_memory=False, encoding = \"ISO-8859-1\", nrows=100000, header=None)\n",
    "\n",
    "df_2017 = pd.read_csv(\"data/2017 TMIN.csv\", low_memory=False, encoding = \"ISO-8859-1\", header=None)\n",
    "df_2016 = pd.read_csv(\"data/2016 TMIN.csv\", low_memory=False, encoding = \"ISO-8859-1\", header=None)\n",
    "df_2015 = pd.read_csv(\"data/2015 TMIN.csv\", low_memory=False, encoding = \"ISO-8859-1\", header=None)\n",
    "df_2014 = pd.read_csv(\"data/2014 TMIN.csv\", low_memory=False, encoding = \"ISO-8859-1\", header=None)\n",
    "\n",
    "\n",
    "df_2017.head()\n",
    "df_2017.reset_index()\n",
    "df_2014.head(10)"
   ]
  },
  {
   "cell_type": "code",
   "execution_count": 3,
   "metadata": {
    "collapsed": true
   },
   "outputs": [],
   "source": [
    "from functools import reduce\n",
    "def df_merge_tmin_years(df1, df2):\n",
    "   # return pd.merge(df1, df2, df3, df4, on=['ID', 'date_mm_dd'], how='outer')\n",
    "    return pd.merge(df1, df2, how='outer', on=['ID', 'date_mm_dd'])\n",
    "   # return reduce(lambda left,right: pd.merge(left,right,on=['ID', 'date_mm_dd'], how='outer'), dfs)"
   ]
  },
  {
   "cell_type": "code",
   "execution_count": 4,
   "metadata": {
    "collapsed": true
   },
   "outputs": [],
   "source": [
    "import re\n",
    "def split_it(date):\n",
    "    return re.findall('(\\d\\d\\d\\d)$', date)[0]\n",
    "\n",
    "def create_date_mm_dd(date):\n",
    "    return date.apply(split_it)"
   ]
  },
  {
   "cell_type": "code",
   "execution_count": 5,
   "metadata": {
    "collapsed": true
   },
   "outputs": [],
   "source": [
    "def rename_columns(df):\n",
    "    df.rename(index=int,columns = {0:'ID',1:'date', 2:'element',3:'data_value',4:'mFlag',5:'qFlag',6:'sFlag',7:'obsTime'}, inplace=True)"
   ]
  },
  {
   "cell_type": "code",
   "execution_count": 6,
   "metadata": {},
   "outputs": [
    {
     "data": {
      "text/html": [
       "<div>\n",
       "<style>\n",
       "    .dataframe thead tr:only-child th {\n",
       "        text-align: right;\n",
       "    }\n",
       "\n",
       "    .dataframe thead th {\n",
       "        text-align: left;\n",
       "    }\n",
       "\n",
       "    .dataframe tbody tr th {\n",
       "        vertical-align: top;\n",
       "    }\n",
       "</style>\n",
       "<table border=\"1\" class=\"dataframe\">\n",
       "  <thead>\n",
       "    <tr style=\"text-align: right;\">\n",
       "      <th></th>\n",
       "      <th>ID</th>\n",
       "      <th>DATE</th>\n",
       "      <th>date_mm_dd</th>\n",
       "    </tr>\n",
       "  </thead>\n",
       "  <tbody>\n",
       "    <tr>\n",
       "      <th>0</th>\n",
       "      <td>ASN00015643</td>\n",
       "      <td>20180101</td>\n",
       "      <td>0101</td>\n",
       "    </tr>\n",
       "    <tr>\n",
       "      <th>1</th>\n",
       "      <td>ASN00085296</td>\n",
       "      <td>20180101</td>\n",
       "      <td>0101</td>\n",
       "    </tr>\n",
       "    <tr>\n",
       "      <th>2</th>\n",
       "      <td>ASN00085280</td>\n",
       "      <td>20180101</td>\n",
       "      <td>0101</td>\n",
       "    </tr>\n",
       "    <tr>\n",
       "      <th>3</th>\n",
       "      <td>CA005030984</td>\n",
       "      <td>20180101</td>\n",
       "      <td>0101</td>\n",
       "    </tr>\n",
       "    <tr>\n",
       "      <th>4</th>\n",
       "      <td>CA003076680</td>\n",
       "      <td>20180101</td>\n",
       "      <td>0101</td>\n",
       "    </tr>\n",
       "  </tbody>\n",
       "</table>\n",
       "</div>"
      ],
      "text/plain": [
       "            ID      DATE date_mm_dd\n",
       "0  ASN00015643  20180101       0101\n",
       "1  ASN00085296  20180101       0101\n",
       "2  ASN00085280  20180101       0101\n",
       "3  CA005030984  20180101       0101\n",
       "4  CA003076680  20180101       0101"
      ]
     },
     "execution_count": 6,
     "metadata": {},
     "output_type": "execute_result"
    }
   ],
   "source": [
    "df_2018_test = pd.read_csv(\"data/2018_test.csv\", low_memory=False, encoding = \"ISO-8859-1\")\n",
    "df_2018_test.head()\n",
    "df_2018_test['date_mm_dd'] = create_date_mm_dd(df_2018_test['DATE'].astype('str'))\n",
    "df_2018_test.head()"
   ]
  },
  {
   "cell_type": "code",
   "execution_count": 7,
   "metadata": {
    "collapsed": true
   },
   "outputs": [],
   "source": [
    "rename_columns(df_2017)\n",
    "rename_columns(df_2016)\n",
    "rename_columns(df_2015)\n",
    "rename_columns(df_2014)\n"
   ]
  },
  {
   "cell_type": "code",
   "execution_count": 8,
   "metadata": {},
   "outputs": [
    {
     "name": "stdout",
     "output_type": "stream",
     "text": [
      "            ID      date element  data_value mFlag qFlag sFlag  obsTime  \\\n",
      "0  ASN00015643  20140101    TMIN         227   NaN   NaN     a      NaN   \n",
      "1  ASN00085296  20140101    TMIN         131   NaN   NaN     a      NaN   \n",
      "2  ASN00085280  20140101    TMIN          84   NaN   NaN     a      NaN   \n",
      "3  CA005030984  20140101    TMIN        -315   NaN   NaN     C      NaN   \n",
      "4  CA003076680  20140101    TMIN        -207   NaN   NaN     C      NaN   \n",
      "\n",
      "                merged  \n",
      "0  ASN0001564320140101  \n",
      "1  ASN0008529620140101  \n",
      "2  ASN0008528020140101  \n",
      "3  CA00503098420140101  \n",
      "4  CA00307668020140101  \n"
     ]
    }
   ],
   "source": [
    "def merge(df):\n",
    "    return df[['ID','date']].apply(lambda x : '{}{}'.format(x[0],x[1]), axis=1)\n",
    "df_2017['merged'] = merge(df_2017)\n",
    "df_2016['merged'] = merge(df_2016)\n",
    "df_2015['merged'] = merge(df_2015)\n",
    "df_2014['merged'] = merge(df_2014)\n",
    "print(df_2014.head())"
   ]
  },
  {
   "cell_type": "code",
   "execution_count": 9,
   "metadata": {},
   "outputs": [
    {
     "data": {
      "text/plain": [
       "Index(['ID', 'date', 'element', 'data_value', 'mFlag', 'qFlag', 'sFlag',\n",
       "       'obsTime', 'merged'],\n",
       "      dtype='object')"
      ]
     },
     "execution_count": 9,
     "metadata": {},
     "output_type": "execute_result"
    }
   ],
   "source": [
    "df_2014.columns"
   ]
  },
  {
   "cell_type": "code",
   "execution_count": 10,
   "metadata": {},
   "outputs": [
    {
     "name": "stdout",
     "output_type": "stream",
     "text": [
      "672650\n"
     ]
    }
   ],
   "source": [
    "print(len(df_2014))"
   ]
  },
  {
   "cell_type": "code",
   "execution_count": 11,
   "metadata": {
    "collapsed": true
   },
   "outputs": [],
   "source": [
    "def pivot(df):\n",
    "    return df.pivot_table( index=['merged','date', 'ID'], columns='element', values='data_value')\n",
    "df_2017_pivoted = pivot(df_2017)\n",
    "df_2016_pivoted = pivot(df_2016)\n",
    "df_2015_pivoted = pivot(df_2015)\n",
    "df_2014_pivoted = pivot(df_2014)\n",
    "\n",
    "df_2017_pivoted.reset_index(inplace=True)\n",
    "df_2016_pivoted.reset_index(inplace=True)\n",
    "df_2015_pivoted.reset_index(inplace=True)\n",
    "df_2014_pivoted.reset_index(inplace=True)\n",
    "\n",
    "# df = df.pivot_table(\n",
    "#     values='value',\n",
    "#     index=['stream_name', 'preferred_timestamp', 'internal_timestamp'],\n",
    "#     columns='value_id'\n",
    "#     )"
   ]
  },
  {
   "cell_type": "code",
   "execution_count": 12,
   "metadata": {},
   "outputs": [
    {
     "data": {
      "text/html": [
       "<div>\n",
       "<style>\n",
       "    .dataframe thead tr:only-child th {\n",
       "        text-align: right;\n",
       "    }\n",
       "\n",
       "    .dataframe thead th {\n",
       "        text-align: left;\n",
       "    }\n",
       "\n",
       "    .dataframe tbody tr th {\n",
       "        vertical-align: top;\n",
       "    }\n",
       "</style>\n",
       "<table border=\"1\" class=\"dataframe\">\n",
       "  <thead>\n",
       "    <tr style=\"text-align: right;\">\n",
       "      <th>element</th>\n",
       "      <th>merged</th>\n",
       "      <th>date</th>\n",
       "      <th>ID</th>\n",
       "      <th>TMIN</th>\n",
       "    </tr>\n",
       "  </thead>\n",
       "  <tbody>\n",
       "    <tr>\n",
       "      <th>0</th>\n",
       "      <td>AE00004119620170103</td>\n",
       "      <td>20170103</td>\n",
       "      <td>AE000041196</td>\n",
       "      <td>156</td>\n",
       "    </tr>\n",
       "    <tr>\n",
       "      <th>1</th>\n",
       "      <td>AE00004119620170105</td>\n",
       "      <td>20170105</td>\n",
       "      <td>AE000041196</td>\n",
       "      <td>176</td>\n",
       "    </tr>\n",
       "    <tr>\n",
       "      <th>2</th>\n",
       "      <td>AE00004119620170107</td>\n",
       "      <td>20170107</td>\n",
       "      <td>AE000041196</td>\n",
       "      <td>130</td>\n",
       "    </tr>\n",
       "    <tr>\n",
       "      <th>3</th>\n",
       "      <td>AE00004119620170108</td>\n",
       "      <td>20170108</td>\n",
       "      <td>AE000041196</td>\n",
       "      <td>128</td>\n",
       "    </tr>\n",
       "    <tr>\n",
       "      <th>4</th>\n",
       "      <td>AE00004119620170109</td>\n",
       "      <td>20170109</td>\n",
       "      <td>AE000041196</td>\n",
       "      <td>126</td>\n",
       "    </tr>\n",
       "  </tbody>\n",
       "</table>\n",
       "</div>"
      ],
      "text/plain": [
       "element               merged      date           ID  TMIN\n",
       "0        AE00004119620170103  20170103  AE000041196   156\n",
       "1        AE00004119620170105  20170105  AE000041196   176\n",
       "2        AE00004119620170107  20170107  AE000041196   130\n",
       "3        AE00004119620170108  20170108  AE000041196   128\n",
       "4        AE00004119620170109  20170109  AE000041196   126"
      ]
     },
     "execution_count": 12,
     "metadata": {},
     "output_type": "execute_result"
    }
   ],
   "source": [
    "df_2017_pivoted.head()"
   ]
  },
  {
   "cell_type": "code",
   "execution_count": 13,
   "metadata": {
    "scrolled": true
   },
   "outputs": [
    {
     "name": "stdout",
     "output_type": "stream",
     "text": [
      "element               merged      date           ID  TMIN\n",
      "0        AE00004119620170103  20170103  AE000041196   156\n",
      "1        AE00004119620170105  20170105  AE000041196   176\n",
      "2        AE00004119620170107  20170107  AE000041196   130\n",
      "3        AE00004119620170108  20170108  AE000041196   128\n",
      "4        AE00004119620170109  20170109  AE000041196   126\n",
      "element               merged      date           ID  TMIN\n",
      "0        AE00004119620160101  20160101  AE000041196   155\n",
      "1        AE00004119620160102  20160102  AE000041196   188\n",
      "2        AE00004119620160105  20160105  AE000041196   139\n",
      "3        AE00004119620160108  20160108  AE000041196   147\n",
      "4        AE00004119620160109  20160109  AE000041196   136\n",
      "element               merged      date           ID  TMIN\n",
      "0        AE00004119620150101  20150101  AE000041196   125\n",
      "1        AE00004119620150102  20150102  AE000041196   127\n",
      "2        AE00004119620150103  20150103  AE000041196   140\n",
      "3        AE00004119620150107  20150107  AE000041196   136\n",
      "4        AE00004119620150111  20150111  AE000041196   100\n",
      "element               merged      date           ID  TMIN\n",
      "0        AE00004119620140101  20140101  AE000041196   128\n",
      "1        AE00004119620140102  20140102  AE000041196   145\n",
      "2        AE00004119620140103  20140103  AE000041196   140\n",
      "3        AE00004119620140106  20140106  AE000041196   162\n",
      "4        AE00004119620140109  20140109  AE000041196   115\n"
     ]
    }
   ],
   "source": [
    "print(df_2017_pivoted.head())\n",
    "print(df_2016_pivoted.head())\n",
    "print(df_2015_pivoted.head())\n",
    "print(df_2014_pivoted.head())\n",
    "\n",
    "\n",
    "# # Tmin( T-10 to T-1) Location LocationId\n",
    "# Training\n",
    "\n",
    "# T-10        T-9           T-8         T-1          -------  T-0 (y)\n",
    "# Tmin20171231 Tmin20171230 Tmin20171229 Tmin20171228 ---- Tmin201712 (y)Tmin20181231\n",
    "# Tmin20171230 Tmin20171228 Tmin20171227\n",
    "# Test\n",
    "\n",
    "# Tmin20171231 Tmin20171230 Tmin20171229 Tmin20171228 ---- Tmin201712 (y)Tmin20180101\n",
    "\n",
    "\n",
    "\n",
    "# 0101 -> 0107 (Average of the previous week)\n",
    "\n",
    "\n",
    "# Run the model for first 10 days\n",
    "# Get y values for those\n",
    "# Substitute those values as features for the next 10 days\n",
    "# repeat for 50 days (5 times)\n"
   ]
  },
  {
   "cell_type": "code",
   "execution_count": null,
   "metadata": {
    "collapsed": true
   },
   "outputs": [],
   "source": []
  },
  {
   "cell_type": "code",
   "execution_count": 14,
   "metadata": {
    "collapsed": true
   },
   "outputs": [],
   "source": [
    "df_2017_pivoted['date_mm_dd'] = create_date_mm_dd(df_2017_pivoted['date'].astype('str'))\n",
    "df_2016_pivoted['date_mm_dd'] = create_date_mm_dd(df_2016_pivoted['date'].astype('str'))\n",
    "df_2015_pivoted['date_mm_dd'] = create_date_mm_dd(df_2015_pivoted['date'].astype('str'))\n",
    "df_2014_pivoted['date_mm_dd'] = create_date_mm_dd(df_2014_pivoted['date'].astype('str'))\n"
   ]
  },
  {
   "cell_type": "code",
   "execution_count": 15,
   "metadata": {},
   "outputs": [
    {
     "data": {
      "text/plain": [
       "634291"
      ]
     },
     "execution_count": 15,
     "metadata": {},
     "output_type": "execute_result"
    }
   ],
   "source": [
    "len(df_2017_pivoted)"
   ]
  },
  {
   "cell_type": "code",
   "execution_count": 16,
   "metadata": {},
   "outputs": [
    {
     "data": {
      "text/plain": [
       "Index(['merged', 'date', 'ID', 'TMIN', 'date_mm_dd'], dtype='object', name='element')"
      ]
     },
     "execution_count": 16,
     "metadata": {},
     "output_type": "execute_result"
    }
   ],
   "source": [
    "df_2017_pivoted.columns"
   ]
  },
  {
   "cell_type": "code",
   "execution_count": 17,
   "metadata": {
    "collapsed": true
   },
   "outputs": [],
   "source": [
    "def tmin_rename(df, year):\n",
    "    df.rename(index=str ,columns = {'TMIN':'TMIN_%s'% year}, inplace=True)\n",
    "\n",
    "tmin_rename(df_2014_pivoted, '2014')\n",
    "tmin_rename(df_2015_pivoted, '2015')\n",
    "tmin_rename(df_2016_pivoted, '2016')\n",
    "tmin_rename(df_2017_pivoted, '2017')"
   ]
  },
  {
   "cell_type": "code",
   "execution_count": 18,
   "metadata": {
    "collapsed": true
   },
   "outputs": [],
   "source": [
    "df_compiled_2017_2016 = df_merge_tmin_years(df_2017_pivoted, df_2016_pivoted)\n",
    "df_compiled_2017_2016_2015 = df_merge_tmin_years(df_compiled_2017_2016, df_2015_pivoted)\n",
    "df_compiled_2017_2016_2015_2014 = df_merge_tmin_years(df_compiled_2017_2016_2015, df_2014_pivoted)\n"
   ]
  },
  {
   "cell_type": "code",
   "execution_count": 19,
   "metadata": {},
   "outputs": [
    {
     "data": {
      "text/html": [
       "<div>\n",
       "<style>\n",
       "    .dataframe thead tr:only-child th {\n",
       "        text-align: right;\n",
       "    }\n",
       "\n",
       "    .dataframe thead th {\n",
       "        text-align: left;\n",
       "    }\n",
       "\n",
       "    .dataframe tbody tr th {\n",
       "        vertical-align: top;\n",
       "    }\n",
       "</style>\n",
       "<table border=\"1\" class=\"dataframe\">\n",
       "  <thead>\n",
       "    <tr style=\"text-align: right;\">\n",
       "      <th>element</th>\n",
       "      <th>merged_x</th>\n",
       "      <th>date_x</th>\n",
       "      <th>ID</th>\n",
       "      <th>TMIN_2017</th>\n",
       "      <th>date_mm_dd</th>\n",
       "      <th>merged_y</th>\n",
       "      <th>date_y</th>\n",
       "      <th>TMIN_2016</th>\n",
       "      <th>merged_x</th>\n",
       "      <th>date_x</th>\n",
       "      <th>TMIN_2015</th>\n",
       "      <th>merged_y</th>\n",
       "      <th>date_y</th>\n",
       "      <th>TMIN_2014</th>\n",
       "    </tr>\n",
       "  </thead>\n",
       "  <tbody>\n",
       "    <tr>\n",
       "      <th>0</th>\n",
       "      <td>AE00004119620170103</td>\n",
       "      <td>20170103.0</td>\n",
       "      <td>AE000041196</td>\n",
       "      <td>156.0</td>\n",
       "      <td>0103</td>\n",
       "      <td>NaN</td>\n",
       "      <td>NaN</td>\n",
       "      <td>NaN</td>\n",
       "      <td>AE00004119620150103</td>\n",
       "      <td>20150103.0</td>\n",
       "      <td>140.0</td>\n",
       "      <td>AE00004119620140103</td>\n",
       "      <td>20140103.0</td>\n",
       "      <td>140.0</td>\n",
       "    </tr>\n",
       "    <tr>\n",
       "      <th>1</th>\n",
       "      <td>AE00004119620170105</td>\n",
       "      <td>20170105.0</td>\n",
       "      <td>AE000041196</td>\n",
       "      <td>176.0</td>\n",
       "      <td>0105</td>\n",
       "      <td>AE00004119620160105</td>\n",
       "      <td>20160105.0</td>\n",
       "      <td>139.0</td>\n",
       "      <td>NaN</td>\n",
       "      <td>NaN</td>\n",
       "      <td>NaN</td>\n",
       "      <td>NaN</td>\n",
       "      <td>NaN</td>\n",
       "      <td>NaN</td>\n",
       "    </tr>\n",
       "    <tr>\n",
       "      <th>2</th>\n",
       "      <td>AE00004119620170107</td>\n",
       "      <td>20170107.0</td>\n",
       "      <td>AE000041196</td>\n",
       "      <td>130.0</td>\n",
       "      <td>0107</td>\n",
       "      <td>NaN</td>\n",
       "      <td>NaN</td>\n",
       "      <td>NaN</td>\n",
       "      <td>AE00004119620150107</td>\n",
       "      <td>20150107.0</td>\n",
       "      <td>136.0</td>\n",
       "      <td>NaN</td>\n",
       "      <td>NaN</td>\n",
       "      <td>NaN</td>\n",
       "    </tr>\n",
       "    <tr>\n",
       "      <th>3</th>\n",
       "      <td>AE00004119620170108</td>\n",
       "      <td>20170108.0</td>\n",
       "      <td>AE000041196</td>\n",
       "      <td>128.0</td>\n",
       "      <td>0108</td>\n",
       "      <td>AE00004119620160108</td>\n",
       "      <td>20160108.0</td>\n",
       "      <td>147.0</td>\n",
       "      <td>NaN</td>\n",
       "      <td>NaN</td>\n",
       "      <td>NaN</td>\n",
       "      <td>NaN</td>\n",
       "      <td>NaN</td>\n",
       "      <td>NaN</td>\n",
       "    </tr>\n",
       "    <tr>\n",
       "      <th>4</th>\n",
       "      <td>AE00004119620170109</td>\n",
       "      <td>20170109.0</td>\n",
       "      <td>AE000041196</td>\n",
       "      <td>126.0</td>\n",
       "      <td>0109</td>\n",
       "      <td>AE00004119620160109</td>\n",
       "      <td>20160109.0</td>\n",
       "      <td>136.0</td>\n",
       "      <td>NaN</td>\n",
       "      <td>NaN</td>\n",
       "      <td>NaN</td>\n",
       "      <td>AE00004119620140109</td>\n",
       "      <td>20140109.0</td>\n",
       "      <td>115.0</td>\n",
       "    </tr>\n",
       "  </tbody>\n",
       "</table>\n",
       "</div>"
      ],
      "text/plain": [
       "element             merged_x      date_x           ID  TMIN_2017 date_mm_dd  \\\n",
       "0        AE00004119620170103  20170103.0  AE000041196      156.0       0103   \n",
       "1        AE00004119620170105  20170105.0  AE000041196      176.0       0105   \n",
       "2        AE00004119620170107  20170107.0  AE000041196      130.0       0107   \n",
       "3        AE00004119620170108  20170108.0  AE000041196      128.0       0108   \n",
       "4        AE00004119620170109  20170109.0  AE000041196      126.0       0109   \n",
       "\n",
       "element             merged_y      date_y  TMIN_2016             merged_x  \\\n",
       "0                        NaN         NaN        NaN  AE00004119620150103   \n",
       "1        AE00004119620160105  20160105.0      139.0                  NaN   \n",
       "2                        NaN         NaN        NaN  AE00004119620150107   \n",
       "3        AE00004119620160108  20160108.0      147.0                  NaN   \n",
       "4        AE00004119620160109  20160109.0      136.0                  NaN   \n",
       "\n",
       "element      date_x  TMIN_2015             merged_y      date_y  TMIN_2014  \n",
       "0        20150103.0      140.0  AE00004119620140103  20140103.0      140.0  \n",
       "1               NaN        NaN                  NaN         NaN        NaN  \n",
       "2        20150107.0      136.0                  NaN         NaN        NaN  \n",
       "3               NaN        NaN                  NaN         NaN        NaN  \n",
       "4               NaN        NaN  AE00004119620140109  20140109.0      115.0  "
      ]
     },
     "execution_count": 19,
     "metadata": {},
     "output_type": "execute_result"
    }
   ],
   "source": [
    "df_compiled_2017_2016_2015_2014.head()\n"
   ]
  },
  {
   "cell_type": "code",
   "execution_count": 20,
   "metadata": {
    "collapsed": true
   },
   "outputs": [],
   "source": [
    "df_clean = df_compiled_2017_2016_2015_2014[['date_mm_dd', 'ID', 'TMIN_2014', 'TMIN_2015', 'TMIN_2016', 'TMIN_2017' ]]"
   ]
  },
  {
   "cell_type": "code",
   "execution_count": 21,
   "metadata": {},
   "outputs": [
    {
     "name": "stdout",
     "output_type": "stream",
     "text": [
      "element\n",
      "date_mm_dd         0\n",
      "ID                 0\n",
      "TMIN_2014      97077\n",
      "TMIN_2015     104439\n",
      "TMIN_2016     117329\n",
      "TMIN_2017     135436\n",
      "dtype: int64\n",
      "769727\n"
     ]
    },
    {
     "data": {
      "text/html": [
       "<div>\n",
       "<style>\n",
       "    .dataframe thead tr:only-child th {\n",
       "        text-align: right;\n",
       "    }\n",
       "\n",
       "    .dataframe thead th {\n",
       "        text-align: left;\n",
       "    }\n",
       "\n",
       "    .dataframe tbody tr th {\n",
       "        vertical-align: top;\n",
       "    }\n",
       "</style>\n",
       "<table border=\"1\" class=\"dataframe\">\n",
       "  <thead>\n",
       "    <tr style=\"text-align: right;\">\n",
       "      <th>element</th>\n",
       "      <th>date_mm_dd</th>\n",
       "      <th>ID</th>\n",
       "      <th>TMIN_2014</th>\n",
       "      <th>TMIN_2015</th>\n",
       "      <th>TMIN_2016</th>\n",
       "      <th>TMIN_2017</th>\n",
       "    </tr>\n",
       "  </thead>\n",
       "  <tbody>\n",
       "    <tr>\n",
       "      <th>0</th>\n",
       "      <td>0103</td>\n",
       "      <td>AE000041196</td>\n",
       "      <td>140.0</td>\n",
       "      <td>140.0</td>\n",
       "      <td>NaN</td>\n",
       "      <td>156.0</td>\n",
       "    </tr>\n",
       "    <tr>\n",
       "      <th>1</th>\n",
       "      <td>0105</td>\n",
       "      <td>AE000041196</td>\n",
       "      <td>NaN</td>\n",
       "      <td>NaN</td>\n",
       "      <td>139.0</td>\n",
       "      <td>176.0</td>\n",
       "    </tr>\n",
       "    <tr>\n",
       "      <th>2</th>\n",
       "      <td>0107</td>\n",
       "      <td>AE000041196</td>\n",
       "      <td>NaN</td>\n",
       "      <td>136.0</td>\n",
       "      <td>NaN</td>\n",
       "      <td>130.0</td>\n",
       "    </tr>\n",
       "    <tr>\n",
       "      <th>3</th>\n",
       "      <td>0108</td>\n",
       "      <td>AE000041196</td>\n",
       "      <td>NaN</td>\n",
       "      <td>NaN</td>\n",
       "      <td>147.0</td>\n",
       "      <td>128.0</td>\n",
       "    </tr>\n",
       "    <tr>\n",
       "      <th>4</th>\n",
       "      <td>0109</td>\n",
       "      <td>AE000041196</td>\n",
       "      <td>115.0</td>\n",
       "      <td>NaN</td>\n",
       "      <td>136.0</td>\n",
       "      <td>126.0</td>\n",
       "    </tr>\n",
       "  </tbody>\n",
       "</table>\n",
       "</div>"
      ],
      "text/plain": [
       "element date_mm_dd           ID  TMIN_2014  TMIN_2015  TMIN_2016  TMIN_2017\n",
       "0             0103  AE000041196      140.0      140.0        NaN      156.0\n",
       "1             0105  AE000041196        NaN        NaN      139.0      176.0\n",
       "2             0107  AE000041196        NaN      136.0        NaN      130.0\n",
       "3             0108  AE000041196        NaN        NaN      147.0      128.0\n",
       "4             0109  AE000041196      115.0        NaN      136.0      126.0"
      ]
     },
     "execution_count": 21,
     "metadata": {},
     "output_type": "execute_result"
    }
   ],
   "source": [
    "print(df_clean.isnull().sum())\n",
    "print(len(df_clean))\n",
    "df_clean.head()"
   ]
  },
  {
   "cell_type": "code",
   "execution_count": 22,
   "metadata": {},
   "outputs": [
    {
     "name": "stderr",
     "output_type": "stream",
     "text": [
      "C:\\Users\\mhamsho\\Anaconda\\lib\\site-packages\\ipykernel_launcher.py:5: SettingWithCopyWarning: \n",
      "A value is trying to be set on a copy of a slice from a DataFrame.\n",
      "Try using .loc[row_indexer,col_indexer] = value instead\n",
      "\n",
      "See the caveats in the documentation: http://pandas.pydata.org/pandas-docs/stable/indexing.html#indexing-view-versus-copy\n",
      "  \"\"\"\n"
     ]
    }
   ],
   "source": [
    "def get_avg_2018(df):\n",
    "    return df.mean(axis = 1, skipna=True)\n",
    "    #return df\n",
    "\n",
    "df_clean['mean'] = get_avg_2018(df_clean[['TMIN_2014', 'TMIN_2015', 'TMIN_2016', 'TMIN_2017' ]])\n",
    "\n"
   ]
  },
  {
   "cell_type": "code",
   "execution_count": 23,
   "metadata": {},
   "outputs": [
    {
     "name": "stdout",
     "output_type": "stream",
     "text": [
      "769727\n"
     ]
    },
    {
     "data": {
      "text/html": [
       "<div>\n",
       "<style>\n",
       "    .dataframe thead tr:only-child th {\n",
       "        text-align: right;\n",
       "    }\n",
       "\n",
       "    .dataframe thead th {\n",
       "        text-align: left;\n",
       "    }\n",
       "\n",
       "    .dataframe tbody tr th {\n",
       "        vertical-align: top;\n",
       "    }\n",
       "</style>\n",
       "<table border=\"1\" class=\"dataframe\">\n",
       "  <thead>\n",
       "    <tr style=\"text-align: right;\">\n",
       "      <th>element</th>\n",
       "      <th>date_mm_dd</th>\n",
       "      <th>ID</th>\n",
       "      <th>TMIN_2014</th>\n",
       "      <th>TMIN_2015</th>\n",
       "      <th>TMIN_2016</th>\n",
       "      <th>TMIN_2017</th>\n",
       "      <th>mean</th>\n",
       "    </tr>\n",
       "  </thead>\n",
       "  <tbody>\n",
       "    <tr>\n",
       "      <th>0</th>\n",
       "      <td>0103</td>\n",
       "      <td>AE000041196</td>\n",
       "      <td>140.0</td>\n",
       "      <td>140.0</td>\n",
       "      <td>NaN</td>\n",
       "      <td>156.0</td>\n",
       "      <td>145.333333</td>\n",
       "    </tr>\n",
       "    <tr>\n",
       "      <th>1</th>\n",
       "      <td>0105</td>\n",
       "      <td>AE000041196</td>\n",
       "      <td>NaN</td>\n",
       "      <td>NaN</td>\n",
       "      <td>139.0</td>\n",
       "      <td>176.0</td>\n",
       "      <td>157.500000</td>\n",
       "    </tr>\n",
       "    <tr>\n",
       "      <th>2</th>\n",
       "      <td>0107</td>\n",
       "      <td>AE000041196</td>\n",
       "      <td>NaN</td>\n",
       "      <td>136.0</td>\n",
       "      <td>NaN</td>\n",
       "      <td>130.0</td>\n",
       "      <td>133.000000</td>\n",
       "    </tr>\n",
       "    <tr>\n",
       "      <th>3</th>\n",
       "      <td>0108</td>\n",
       "      <td>AE000041196</td>\n",
       "      <td>NaN</td>\n",
       "      <td>NaN</td>\n",
       "      <td>147.0</td>\n",
       "      <td>128.0</td>\n",
       "      <td>137.500000</td>\n",
       "    </tr>\n",
       "    <tr>\n",
       "      <th>4</th>\n",
       "      <td>0109</td>\n",
       "      <td>AE000041196</td>\n",
       "      <td>115.0</td>\n",
       "      <td>NaN</td>\n",
       "      <td>136.0</td>\n",
       "      <td>126.0</td>\n",
       "      <td>125.666667</td>\n",
       "    </tr>\n",
       "  </tbody>\n",
       "</table>\n",
       "</div>"
      ],
      "text/plain": [
       "element date_mm_dd           ID  TMIN_2014  TMIN_2015  TMIN_2016  TMIN_2017  \\\n",
       "0             0103  AE000041196      140.0      140.0        NaN      156.0   \n",
       "1             0105  AE000041196        NaN        NaN      139.0      176.0   \n",
       "2             0107  AE000041196        NaN      136.0        NaN      130.0   \n",
       "3             0108  AE000041196        NaN        NaN      147.0      128.0   \n",
       "4             0109  AE000041196      115.0        NaN      136.0      126.0   \n",
       "\n",
       "element        mean  \n",
       "0        145.333333  \n",
       "1        157.500000  \n",
       "2        133.000000  \n",
       "3        137.500000  \n",
       "4        125.666667  "
      ]
     },
     "execution_count": 23,
     "metadata": {},
     "output_type": "execute_result"
    }
   ],
   "source": [
    "print(len(df_clean))\n",
    "df_clean.head()"
   ]
  },
  {
   "cell_type": "code",
   "execution_count": null,
   "metadata": {
    "collapsed": true
   },
   "outputs": [],
   "source": []
  },
  {
   "cell_type": "code",
   "execution_count": 24,
   "metadata": {},
   "outputs": [
    {
     "data": {
      "text/plain": [
       "element\n",
       "date_mm_dd         0\n",
       "ID                 0\n",
       "TMIN_2014      97077\n",
       "TMIN_2015     104439\n",
       "TMIN_2016     117329\n",
       "TMIN_2017     135436\n",
       "mean               0\n",
       "dtype: int64"
      ]
     },
     "execution_count": 24,
     "metadata": {},
     "output_type": "execute_result"
    }
   ],
   "source": [
    "df_clean.isnull().sum()"
   ]
  },
  {
   "cell_type": "code",
   "execution_count": 25,
   "metadata": {},
   "outputs": [
    {
     "data": {
      "text/html": [
       "<div>\n",
       "<style>\n",
       "    .dataframe thead tr:only-child th {\n",
       "        text-align: right;\n",
       "    }\n",
       "\n",
       "    .dataframe thead th {\n",
       "        text-align: left;\n",
       "    }\n",
       "\n",
       "    .dataframe tbody tr th {\n",
       "        vertical-align: top;\n",
       "    }\n",
       "</style>\n",
       "<table border=\"1\" class=\"dataframe\">\n",
       "  <thead>\n",
       "    <tr style=\"text-align: right;\">\n",
       "      <th></th>\n",
       "      <th>ID</th>\n",
       "      <th>DATE</th>\n",
       "      <th>date_mm_dd</th>\n",
       "      <th>TMIN_2014</th>\n",
       "      <th>TMIN_2015</th>\n",
       "      <th>TMIN_2016</th>\n",
       "      <th>TMIN_2017</th>\n",
       "      <th>mean</th>\n",
       "    </tr>\n",
       "  </thead>\n",
       "  <tbody>\n",
       "    <tr>\n",
       "      <th>58</th>\n",
       "      <td>RSM00034535</td>\n",
       "      <td>20180101</td>\n",
       "      <td>0101</td>\n",
       "      <td>NaN</td>\n",
       "      <td>NaN</td>\n",
       "      <td>NaN</td>\n",
       "      <td>NaN</td>\n",
       "      <td>NaN</td>\n",
       "    </tr>\n",
       "    <tr>\n",
       "      <th>142</th>\n",
       "      <td>FP000091948</td>\n",
       "      <td>20180101</td>\n",
       "      <td>0101</td>\n",
       "      <td>NaN</td>\n",
       "      <td>NaN</td>\n",
       "      <td>NaN</td>\n",
       "      <td>NaN</td>\n",
       "      <td>NaN</td>\n",
       "    </tr>\n",
       "    <tr>\n",
       "      <th>288</th>\n",
       "      <td>KZ000035849</td>\n",
       "      <td>20180101</td>\n",
       "      <td>0101</td>\n",
       "      <td>NaN</td>\n",
       "      <td>NaN</td>\n",
       "      <td>NaN</td>\n",
       "      <td>NaN</td>\n",
       "      <td>NaN</td>\n",
       "    </tr>\n",
       "    <tr>\n",
       "      <th>289</th>\n",
       "      <td>IRM00040858</td>\n",
       "      <td>20180101</td>\n",
       "      <td>0101</td>\n",
       "      <td>NaN</td>\n",
       "      <td>NaN</td>\n",
       "      <td>NaN</td>\n",
       "      <td>NaN</td>\n",
       "      <td>NaN</td>\n",
       "    </tr>\n",
       "    <tr>\n",
       "      <th>354</th>\n",
       "      <td>MD000033881</td>\n",
       "      <td>20180101</td>\n",
       "      <td>0101</td>\n",
       "      <td>NaN</td>\n",
       "      <td>NaN</td>\n",
       "      <td>NaN</td>\n",
       "      <td>NaN</td>\n",
       "      <td>NaN</td>\n",
       "    </tr>\n",
       "    <tr>\n",
       "      <th>357</th>\n",
       "      <td>IN021010100</td>\n",
       "      <td>20180101</td>\n",
       "      <td>0101</td>\n",
       "      <td>NaN</td>\n",
       "      <td>NaN</td>\n",
       "      <td>NaN</td>\n",
       "      <td>NaN</td>\n",
       "      <td>NaN</td>\n",
       "    </tr>\n",
       "    <tr>\n",
       "      <th>435</th>\n",
       "      <td>RSM00030695</td>\n",
       "      <td>20180101</td>\n",
       "      <td>0101</td>\n",
       "      <td>NaN</td>\n",
       "      <td>NaN</td>\n",
       "      <td>NaN</td>\n",
       "      <td>NaN</td>\n",
       "      <td>NaN</td>\n",
       "    </tr>\n",
       "    <tr>\n",
       "      <th>440</th>\n",
       "      <td>MOM00060220</td>\n",
       "      <td>20180101</td>\n",
       "      <td>0101</td>\n",
       "      <td>NaN</td>\n",
       "      <td>NaN</td>\n",
       "      <td>NaN</td>\n",
       "      <td>NaN</td>\n",
       "      <td>NaN</td>\n",
       "    </tr>\n",
       "    <tr>\n",
       "      <th>446</th>\n",
       "      <td>IT000016560</td>\n",
       "      <td>20180101</td>\n",
       "      <td>0101</td>\n",
       "      <td>NaN</td>\n",
       "      <td>NaN</td>\n",
       "      <td>NaN</td>\n",
       "      <td>NaN</td>\n",
       "      <td>NaN</td>\n",
       "    </tr>\n",
       "    <tr>\n",
       "      <th>508</th>\n",
       "      <td>RSM00034958</td>\n",
       "      <td>20180101</td>\n",
       "      <td>0101</td>\n",
       "      <td>NaN</td>\n",
       "      <td>NaN</td>\n",
       "      <td>NaN</td>\n",
       "      <td>NaN</td>\n",
       "      <td>NaN</td>\n",
       "    </tr>\n",
       "    <tr>\n",
       "      <th>593</th>\n",
       "      <td>JA000047402</td>\n",
       "      <td>20180101</td>\n",
       "      <td>0101</td>\n",
       "      <td>NaN</td>\n",
       "      <td>NaN</td>\n",
       "      <td>NaN</td>\n",
       "      <td>NaN</td>\n",
       "      <td>NaN</td>\n",
       "    </tr>\n",
       "    <tr>\n",
       "      <th>613</th>\n",
       "      <td>MXM00076634</td>\n",
       "      <td>20180101</td>\n",
       "      <td>0101</td>\n",
       "      <td>NaN</td>\n",
       "      <td>NaN</td>\n",
       "      <td>NaN</td>\n",
       "      <td>NaN</td>\n",
       "      <td>NaN</td>\n",
       "    </tr>\n",
       "    <tr>\n",
       "      <th>661</th>\n",
       "      <td>MX000766800</td>\n",
       "      <td>20180101</td>\n",
       "      <td>0101</td>\n",
       "      <td>NaN</td>\n",
       "      <td>NaN</td>\n",
       "      <td>NaN</td>\n",
       "      <td>NaN</td>\n",
       "      <td>NaN</td>\n",
       "    </tr>\n",
       "    <tr>\n",
       "      <th>679</th>\n",
       "      <td>RSM00028502</td>\n",
       "      <td>20180101</td>\n",
       "      <td>0101</td>\n",
       "      <td>NaN</td>\n",
       "      <td>NaN</td>\n",
       "      <td>NaN</td>\n",
       "      <td>NaN</td>\n",
       "      <td>NaN</td>\n",
       "    </tr>\n",
       "    <tr>\n",
       "      <th>689</th>\n",
       "      <td>FSM00061997</td>\n",
       "      <td>20180101</td>\n",
       "      <td>0101</td>\n",
       "      <td>NaN</td>\n",
       "      <td>NaN</td>\n",
       "      <td>NaN</td>\n",
       "      <td>NaN</td>\n",
       "      <td>NaN</td>\n",
       "    </tr>\n",
       "    <tr>\n",
       "      <th>734</th>\n",
       "      <td>UPM00033664</td>\n",
       "      <td>20180101</td>\n",
       "      <td>0101</td>\n",
       "      <td>NaN</td>\n",
       "      <td>NaN</td>\n",
       "      <td>NaN</td>\n",
       "      <td>NaN</td>\n",
       "      <td>NaN</td>\n",
       "    </tr>\n",
       "    <tr>\n",
       "      <th>748</th>\n",
       "      <td>RSM00021802</td>\n",
       "      <td>20180101</td>\n",
       "      <td>0101</td>\n",
       "      <td>NaN</td>\n",
       "      <td>NaN</td>\n",
       "      <td>NaN</td>\n",
       "      <td>NaN</td>\n",
       "      <td>NaN</td>\n",
       "    </tr>\n",
       "    <tr>\n",
       "      <th>763</th>\n",
       "      <td>CHM00050632</td>\n",
       "      <td>20180101</td>\n",
       "      <td>0101</td>\n",
       "      <td>NaN</td>\n",
       "      <td>NaN</td>\n",
       "      <td>NaN</td>\n",
       "      <td>NaN</td>\n",
       "      <td>NaN</td>\n",
       "    </tr>\n",
       "    <tr>\n",
       "      <th>795</th>\n",
       "      <td>USC00237862</td>\n",
       "      <td>20180101</td>\n",
       "      <td>0101</td>\n",
       "      <td>NaN</td>\n",
       "      <td>NaN</td>\n",
       "      <td>NaN</td>\n",
       "      <td>NaN</td>\n",
       "      <td>NaN</td>\n",
       "    </tr>\n",
       "    <tr>\n",
       "      <th>888</th>\n",
       "      <td>POM00008548</td>\n",
       "      <td>20180101</td>\n",
       "      <td>0101</td>\n",
       "      <td>NaN</td>\n",
       "      <td>NaN</td>\n",
       "      <td>NaN</td>\n",
       "      <td>NaN</td>\n",
       "      <td>NaN</td>\n",
       "    </tr>\n",
       "    <tr>\n",
       "      <th>965</th>\n",
       "      <td>RSM00029068</td>\n",
       "      <td>20180101</td>\n",
       "      <td>0101</td>\n",
       "      <td>NaN</td>\n",
       "      <td>NaN</td>\n",
       "      <td>NaN</td>\n",
       "      <td>NaN</td>\n",
       "      <td>NaN</td>\n",
       "    </tr>\n",
       "    <tr>\n",
       "      <th>1050</th>\n",
       "      <td>CHM00051747</td>\n",
       "      <td>20180101</td>\n",
       "      <td>0101</td>\n",
       "      <td>NaN</td>\n",
       "      <td>NaN</td>\n",
       "      <td>NaN</td>\n",
       "      <td>NaN</td>\n",
       "      <td>NaN</td>\n",
       "    </tr>\n",
       "    <tr>\n",
       "      <th>1109</th>\n",
       "      <td>RSM00031513</td>\n",
       "      <td>20180101</td>\n",
       "      <td>0101</td>\n",
       "      <td>NaN</td>\n",
       "      <td>NaN</td>\n",
       "      <td>NaN</td>\n",
       "      <td>NaN</td>\n",
       "      <td>NaN</td>\n",
       "    </tr>\n",
       "    <tr>\n",
       "      <th>1127</th>\n",
       "      <td>USC00058590</td>\n",
       "      <td>20180101</td>\n",
       "      <td>0101</td>\n",
       "      <td>NaN</td>\n",
       "      <td>NaN</td>\n",
       "      <td>NaN</td>\n",
       "      <td>NaN</td>\n",
       "      <td>NaN</td>\n",
       "    </tr>\n",
       "    <tr>\n",
       "      <th>1135</th>\n",
       "      <td>TUM00017204</td>\n",
       "      <td>20180101</td>\n",
       "      <td>0101</td>\n",
       "      <td>NaN</td>\n",
       "      <td>NaN</td>\n",
       "      <td>NaN</td>\n",
       "      <td>NaN</td>\n",
       "      <td>NaN</td>\n",
       "    </tr>\n",
       "    <tr>\n",
       "      <th>1194</th>\n",
       "      <td>KUM00040570</td>\n",
       "      <td>20180101</td>\n",
       "      <td>0101</td>\n",
       "      <td>NaN</td>\n",
       "      <td>NaN</td>\n",
       "      <td>NaN</td>\n",
       "      <td>NaN</td>\n",
       "      <td>NaN</td>\n",
       "    </tr>\n",
       "    <tr>\n",
       "      <th>1254</th>\n",
       "      <td>TI000038734</td>\n",
       "      <td>20180101</td>\n",
       "      <td>0101</td>\n",
       "      <td>NaN</td>\n",
       "      <td>NaN</td>\n",
       "      <td>NaN</td>\n",
       "      <td>NaN</td>\n",
       "      <td>NaN</td>\n",
       "    </tr>\n",
       "    <tr>\n",
       "      <th>1286</th>\n",
       "      <td>EG000062417</td>\n",
       "      <td>20180101</td>\n",
       "      <td>0101</td>\n",
       "      <td>NaN</td>\n",
       "      <td>NaN</td>\n",
       "      <td>NaN</td>\n",
       "      <td>NaN</td>\n",
       "      <td>NaN</td>\n",
       "    </tr>\n",
       "    <tr>\n",
       "      <th>1352</th>\n",
       "      <td>RSM00025551</td>\n",
       "      <td>20180101</td>\n",
       "      <td>0101</td>\n",
       "      <td>NaN</td>\n",
       "      <td>NaN</td>\n",
       "      <td>NaN</td>\n",
       "      <td>NaN</td>\n",
       "      <td>NaN</td>\n",
       "    </tr>\n",
       "    <tr>\n",
       "      <th>1418</th>\n",
       "      <td>TH000048353</td>\n",
       "      <td>20180101</td>\n",
       "      <td>0101</td>\n",
       "      <td>NaN</td>\n",
       "      <td>NaN</td>\n",
       "      <td>NaN</td>\n",
       "      <td>NaN</td>\n",
       "      <td>NaN</td>\n",
       "    </tr>\n",
       "    <tr>\n",
       "      <th>...</th>\n",
       "      <td>...</td>\n",
       "      <td>...</td>\n",
       "      <td>...</td>\n",
       "      <td>...</td>\n",
       "      <td>...</td>\n",
       "      <td>...</td>\n",
       "      <td>...</td>\n",
       "      <td>...</td>\n",
       "    </tr>\n",
       "    <tr>\n",
       "      <th>391012</th>\n",
       "      <td>CA002403945</td>\n",
       "      <td>20180218</td>\n",
       "      <td>0218</td>\n",
       "      <td>NaN</td>\n",
       "      <td>NaN</td>\n",
       "      <td>NaN</td>\n",
       "      <td>NaN</td>\n",
       "      <td>NaN</td>\n",
       "    </tr>\n",
       "    <tr>\n",
       "      <th>391232</th>\n",
       "      <td>USC00107706</td>\n",
       "      <td>20180218</td>\n",
       "      <td>0218</td>\n",
       "      <td>NaN</td>\n",
       "      <td>NaN</td>\n",
       "      <td>NaN</td>\n",
       "      <td>NaN</td>\n",
       "      <td>NaN</td>\n",
       "    </tr>\n",
       "    <tr>\n",
       "      <th>391525</th>\n",
       "      <td>USW00003154</td>\n",
       "      <td>20180218</td>\n",
       "      <td>0218</td>\n",
       "      <td>NaN</td>\n",
       "      <td>NaN</td>\n",
       "      <td>NaN</td>\n",
       "      <td>NaN</td>\n",
       "      <td>NaN</td>\n",
       "    </tr>\n",
       "    <tr>\n",
       "      <th>391780</th>\n",
       "      <td>FMC00914251</td>\n",
       "      <td>20180218</td>\n",
       "      <td>0218</td>\n",
       "      <td>NaN</td>\n",
       "      <td>NaN</td>\n",
       "      <td>NaN</td>\n",
       "      <td>NaN</td>\n",
       "      <td>NaN</td>\n",
       "    </tr>\n",
       "    <tr>\n",
       "      <th>391795</th>\n",
       "      <td>USC00231383</td>\n",
       "      <td>20180218</td>\n",
       "      <td>0218</td>\n",
       "      <td>NaN</td>\n",
       "      <td>NaN</td>\n",
       "      <td>NaN</td>\n",
       "      <td>NaN</td>\n",
       "      <td>NaN</td>\n",
       "    </tr>\n",
       "    <tr>\n",
       "      <th>392067</th>\n",
       "      <td>USC00253715</td>\n",
       "      <td>20180218</td>\n",
       "      <td>0218</td>\n",
       "      <td>NaN</td>\n",
       "      <td>NaN</td>\n",
       "      <td>NaN</td>\n",
       "      <td>NaN</td>\n",
       "      <td>NaN</td>\n",
       "    </tr>\n",
       "    <tr>\n",
       "      <th>392198</th>\n",
       "      <td>USC00128437</td>\n",
       "      <td>20180218</td>\n",
       "      <td>0218</td>\n",
       "      <td>NaN</td>\n",
       "      <td>NaN</td>\n",
       "      <td>NaN</td>\n",
       "      <td>NaN</td>\n",
       "      <td>NaN</td>\n",
       "    </tr>\n",
       "    <tr>\n",
       "      <th>392452</th>\n",
       "      <td>USC00231216</td>\n",
       "      <td>20180218</td>\n",
       "      <td>0218</td>\n",
       "      <td>NaN</td>\n",
       "      <td>NaN</td>\n",
       "      <td>NaN</td>\n",
       "      <td>NaN</td>\n",
       "      <td>NaN</td>\n",
       "    </tr>\n",
       "    <tr>\n",
       "      <th>392948</th>\n",
       "      <td>USC00058590</td>\n",
       "      <td>20180219</td>\n",
       "      <td>0219</td>\n",
       "      <td>NaN</td>\n",
       "      <td>NaN</td>\n",
       "      <td>NaN</td>\n",
       "      <td>NaN</td>\n",
       "      <td>NaN</td>\n",
       "    </tr>\n",
       "    <tr>\n",
       "      <th>393017</th>\n",
       "      <td>USC00040820</td>\n",
       "      <td>20180219</td>\n",
       "      <td>0219</td>\n",
       "      <td>NaN</td>\n",
       "      <td>NaN</td>\n",
       "      <td>NaN</td>\n",
       "      <td>NaN</td>\n",
       "      <td>NaN</td>\n",
       "    </tr>\n",
       "    <tr>\n",
       "      <th>393272</th>\n",
       "      <td>USC00055116</td>\n",
       "      <td>20180219</td>\n",
       "      <td>0219</td>\n",
       "      <td>NaN</td>\n",
       "      <td>NaN</td>\n",
       "      <td>NaN</td>\n",
       "      <td>NaN</td>\n",
       "      <td>NaN</td>\n",
       "    </tr>\n",
       "    <tr>\n",
       "      <th>393464</th>\n",
       "      <td>USC00252770</td>\n",
       "      <td>20180219</td>\n",
       "      <td>0219</td>\n",
       "      <td>NaN</td>\n",
       "      <td>NaN</td>\n",
       "      <td>NaN</td>\n",
       "      <td>NaN</td>\n",
       "      <td>NaN</td>\n",
       "    </tr>\n",
       "    <tr>\n",
       "      <th>393690</th>\n",
       "      <td>USC00174782</td>\n",
       "      <td>20180219</td>\n",
       "      <td>0219</td>\n",
       "      <td>NaN</td>\n",
       "      <td>NaN</td>\n",
       "      <td>NaN</td>\n",
       "      <td>NaN</td>\n",
       "      <td>NaN</td>\n",
       "    </tr>\n",
       "    <tr>\n",
       "      <th>394056</th>\n",
       "      <td>USC00047965</td>\n",
       "      <td>20180219</td>\n",
       "      <td>0219</td>\n",
       "      <td>NaN</td>\n",
       "      <td>NaN</td>\n",
       "      <td>NaN</td>\n",
       "      <td>NaN</td>\n",
       "      <td>NaN</td>\n",
       "    </tr>\n",
       "    <tr>\n",
       "      <th>394231</th>\n",
       "      <td>USC00425826</td>\n",
       "      <td>20180219</td>\n",
       "      <td>0219</td>\n",
       "      <td>NaN</td>\n",
       "      <td>NaN</td>\n",
       "      <td>NaN</td>\n",
       "      <td>NaN</td>\n",
       "      <td>NaN</td>\n",
       "    </tr>\n",
       "    <tr>\n",
       "      <th>394501</th>\n",
       "      <td>CA002403945</td>\n",
       "      <td>20180219</td>\n",
       "      <td>0219</td>\n",
       "      <td>NaN</td>\n",
       "      <td>NaN</td>\n",
       "      <td>NaN</td>\n",
       "      <td>NaN</td>\n",
       "      <td>NaN</td>\n",
       "    </tr>\n",
       "    <tr>\n",
       "      <th>394607</th>\n",
       "      <td>BLM00085293</td>\n",
       "      <td>20180219</td>\n",
       "      <td>0219</td>\n",
       "      <td>NaN</td>\n",
       "      <td>NaN</td>\n",
       "      <td>NaN</td>\n",
       "      <td>NaN</td>\n",
       "      <td>NaN</td>\n",
       "    </tr>\n",
       "    <tr>\n",
       "      <th>394688</th>\n",
       "      <td>USC00107706</td>\n",
       "      <td>20180219</td>\n",
       "      <td>0219</td>\n",
       "      <td>NaN</td>\n",
       "      <td>NaN</td>\n",
       "      <td>NaN</td>\n",
       "      <td>NaN</td>\n",
       "      <td>NaN</td>\n",
       "    </tr>\n",
       "    <tr>\n",
       "      <th>395149</th>\n",
       "      <td>USC00231383</td>\n",
       "      <td>20180219</td>\n",
       "      <td>0219</td>\n",
       "      <td>NaN</td>\n",
       "      <td>NaN</td>\n",
       "      <td>NaN</td>\n",
       "      <td>NaN</td>\n",
       "      <td>NaN</td>\n",
       "    </tr>\n",
       "    <tr>\n",
       "      <th>395327</th>\n",
       "      <td>USC00092593</td>\n",
       "      <td>20180219</td>\n",
       "      <td>0219</td>\n",
       "      <td>NaN</td>\n",
       "      <td>NaN</td>\n",
       "      <td>NaN</td>\n",
       "      <td>NaN</td>\n",
       "      <td>NaN</td>\n",
       "    </tr>\n",
       "    <tr>\n",
       "      <th>395382</th>\n",
       "      <td>USC00253715</td>\n",
       "      <td>20180219</td>\n",
       "      <td>0219</td>\n",
       "      <td>NaN</td>\n",
       "      <td>NaN</td>\n",
       "      <td>NaN</td>\n",
       "      <td>NaN</td>\n",
       "      <td>NaN</td>\n",
       "    </tr>\n",
       "    <tr>\n",
       "      <th>395384</th>\n",
       "      <td>BL000085364</td>\n",
       "      <td>20180219</td>\n",
       "      <td>0219</td>\n",
       "      <td>NaN</td>\n",
       "      <td>NaN</td>\n",
       "      <td>NaN</td>\n",
       "      <td>NaN</td>\n",
       "      <td>NaN</td>\n",
       "    </tr>\n",
       "    <tr>\n",
       "      <th>395490</th>\n",
       "      <td>USC00128437</td>\n",
       "      <td>20180219</td>\n",
       "      <td>0219</td>\n",
       "      <td>NaN</td>\n",
       "      <td>NaN</td>\n",
       "      <td>NaN</td>\n",
       "      <td>NaN</td>\n",
       "      <td>NaN</td>\n",
       "    </tr>\n",
       "    <tr>\n",
       "      <th>395691</th>\n",
       "      <td>USC00231216</td>\n",
       "      <td>20180219</td>\n",
       "      <td>0219</td>\n",
       "      <td>NaN</td>\n",
       "      <td>NaN</td>\n",
       "      <td>NaN</td>\n",
       "      <td>NaN</td>\n",
       "      <td>NaN</td>\n",
       "    </tr>\n",
       "    <tr>\n",
       "      <th>395841</th>\n",
       "      <td>USC00098657</td>\n",
       "      <td>20180220</td>\n",
       "      <td>0220</td>\n",
       "      <td>NaN</td>\n",
       "      <td>NaN</td>\n",
       "      <td>NaN</td>\n",
       "      <td>NaN</td>\n",
       "      <td>NaN</td>\n",
       "    </tr>\n",
       "    <tr>\n",
       "      <th>396033</th>\n",
       "      <td>USC00058590</td>\n",
       "      <td>20180220</td>\n",
       "      <td>0220</td>\n",
       "      <td>NaN</td>\n",
       "      <td>NaN</td>\n",
       "      <td>NaN</td>\n",
       "      <td>NaN</td>\n",
       "      <td>NaN</td>\n",
       "    </tr>\n",
       "    <tr>\n",
       "      <th>396248</th>\n",
       "      <td>USC00055116</td>\n",
       "      <td>20180220</td>\n",
       "      <td>0220</td>\n",
       "      <td>NaN</td>\n",
       "      <td>NaN</td>\n",
       "      <td>NaN</td>\n",
       "      <td>NaN</td>\n",
       "      <td>NaN</td>\n",
       "    </tr>\n",
       "    <tr>\n",
       "      <th>396976</th>\n",
       "      <td>USC00195160</td>\n",
       "      <td>20180220</td>\n",
       "      <td>0220</td>\n",
       "      <td>NaN</td>\n",
       "      <td>NaN</td>\n",
       "      <td>NaN</td>\n",
       "      <td>NaN</td>\n",
       "      <td>NaN</td>\n",
       "    </tr>\n",
       "    <tr>\n",
       "      <th>397389</th>\n",
       "      <td>USC00231383</td>\n",
       "      <td>20180220</td>\n",
       "      <td>0220</td>\n",
       "      <td>NaN</td>\n",
       "      <td>NaN</td>\n",
       "      <td>NaN</td>\n",
       "      <td>NaN</td>\n",
       "      <td>NaN</td>\n",
       "    </tr>\n",
       "    <tr>\n",
       "      <th>397750</th>\n",
       "      <td>USC00231216</td>\n",
       "      <td>20180220</td>\n",
       "      <td>0220</td>\n",
       "      <td>NaN</td>\n",
       "      <td>NaN</td>\n",
       "      <td>NaN</td>\n",
       "      <td>NaN</td>\n",
       "      <td>NaN</td>\n",
       "    </tr>\n",
       "  </tbody>\n",
       "</table>\n",
       "<p>3334 rows × 8 columns</p>\n",
       "</div>"
      ],
      "text/plain": [
       "                 ID      DATE date_mm_dd  TMIN_2014  TMIN_2015  TMIN_2016  \\\n",
       "58      RSM00034535  20180101       0101        NaN        NaN        NaN   \n",
       "142     FP000091948  20180101       0101        NaN        NaN        NaN   \n",
       "288     KZ000035849  20180101       0101        NaN        NaN        NaN   \n",
       "289     IRM00040858  20180101       0101        NaN        NaN        NaN   \n",
       "354     MD000033881  20180101       0101        NaN        NaN        NaN   \n",
       "357     IN021010100  20180101       0101        NaN        NaN        NaN   \n",
       "435     RSM00030695  20180101       0101        NaN        NaN        NaN   \n",
       "440     MOM00060220  20180101       0101        NaN        NaN        NaN   \n",
       "446     IT000016560  20180101       0101        NaN        NaN        NaN   \n",
       "508     RSM00034958  20180101       0101        NaN        NaN        NaN   \n",
       "593     JA000047402  20180101       0101        NaN        NaN        NaN   \n",
       "613     MXM00076634  20180101       0101        NaN        NaN        NaN   \n",
       "661     MX000766800  20180101       0101        NaN        NaN        NaN   \n",
       "679     RSM00028502  20180101       0101        NaN        NaN        NaN   \n",
       "689     FSM00061997  20180101       0101        NaN        NaN        NaN   \n",
       "734     UPM00033664  20180101       0101        NaN        NaN        NaN   \n",
       "748     RSM00021802  20180101       0101        NaN        NaN        NaN   \n",
       "763     CHM00050632  20180101       0101        NaN        NaN        NaN   \n",
       "795     USC00237862  20180101       0101        NaN        NaN        NaN   \n",
       "888     POM00008548  20180101       0101        NaN        NaN        NaN   \n",
       "965     RSM00029068  20180101       0101        NaN        NaN        NaN   \n",
       "1050    CHM00051747  20180101       0101        NaN        NaN        NaN   \n",
       "1109    RSM00031513  20180101       0101        NaN        NaN        NaN   \n",
       "1127    USC00058590  20180101       0101        NaN        NaN        NaN   \n",
       "1135    TUM00017204  20180101       0101        NaN        NaN        NaN   \n",
       "1194    KUM00040570  20180101       0101        NaN        NaN        NaN   \n",
       "1254    TI000038734  20180101       0101        NaN        NaN        NaN   \n",
       "1286    EG000062417  20180101       0101        NaN        NaN        NaN   \n",
       "1352    RSM00025551  20180101       0101        NaN        NaN        NaN   \n",
       "1418    TH000048353  20180101       0101        NaN        NaN        NaN   \n",
       "...             ...       ...        ...        ...        ...        ...   \n",
       "391012  CA002403945  20180218       0218        NaN        NaN        NaN   \n",
       "391232  USC00107706  20180218       0218        NaN        NaN        NaN   \n",
       "391525  USW00003154  20180218       0218        NaN        NaN        NaN   \n",
       "391780  FMC00914251  20180218       0218        NaN        NaN        NaN   \n",
       "391795  USC00231383  20180218       0218        NaN        NaN        NaN   \n",
       "392067  USC00253715  20180218       0218        NaN        NaN        NaN   \n",
       "392198  USC00128437  20180218       0218        NaN        NaN        NaN   \n",
       "392452  USC00231216  20180218       0218        NaN        NaN        NaN   \n",
       "392948  USC00058590  20180219       0219        NaN        NaN        NaN   \n",
       "393017  USC00040820  20180219       0219        NaN        NaN        NaN   \n",
       "393272  USC00055116  20180219       0219        NaN        NaN        NaN   \n",
       "393464  USC00252770  20180219       0219        NaN        NaN        NaN   \n",
       "393690  USC00174782  20180219       0219        NaN        NaN        NaN   \n",
       "394056  USC00047965  20180219       0219        NaN        NaN        NaN   \n",
       "394231  USC00425826  20180219       0219        NaN        NaN        NaN   \n",
       "394501  CA002403945  20180219       0219        NaN        NaN        NaN   \n",
       "394607  BLM00085293  20180219       0219        NaN        NaN        NaN   \n",
       "394688  USC00107706  20180219       0219        NaN        NaN        NaN   \n",
       "395149  USC00231383  20180219       0219        NaN        NaN        NaN   \n",
       "395327  USC00092593  20180219       0219        NaN        NaN        NaN   \n",
       "395382  USC00253715  20180219       0219        NaN        NaN        NaN   \n",
       "395384  BL000085364  20180219       0219        NaN        NaN        NaN   \n",
       "395490  USC00128437  20180219       0219        NaN        NaN        NaN   \n",
       "395691  USC00231216  20180219       0219        NaN        NaN        NaN   \n",
       "395841  USC00098657  20180220       0220        NaN        NaN        NaN   \n",
       "396033  USC00058590  20180220       0220        NaN        NaN        NaN   \n",
       "396248  USC00055116  20180220       0220        NaN        NaN        NaN   \n",
       "396976  USC00195160  20180220       0220        NaN        NaN        NaN   \n",
       "397389  USC00231383  20180220       0220        NaN        NaN        NaN   \n",
       "397750  USC00231216  20180220       0220        NaN        NaN        NaN   \n",
       "\n",
       "        TMIN_2017  mean  \n",
       "58            NaN   NaN  \n",
       "142           NaN   NaN  \n",
       "288           NaN   NaN  \n",
       "289           NaN   NaN  \n",
       "354           NaN   NaN  \n",
       "357           NaN   NaN  \n",
       "435           NaN   NaN  \n",
       "440           NaN   NaN  \n",
       "446           NaN   NaN  \n",
       "508           NaN   NaN  \n",
       "593           NaN   NaN  \n",
       "613           NaN   NaN  \n",
       "661           NaN   NaN  \n",
       "679           NaN   NaN  \n",
       "689           NaN   NaN  \n",
       "734           NaN   NaN  \n",
       "748           NaN   NaN  \n",
       "763           NaN   NaN  \n",
       "795           NaN   NaN  \n",
       "888           NaN   NaN  \n",
       "965           NaN   NaN  \n",
       "1050          NaN   NaN  \n",
       "1109          NaN   NaN  \n",
       "1127          NaN   NaN  \n",
       "1135          NaN   NaN  \n",
       "1194          NaN   NaN  \n",
       "1254          NaN   NaN  \n",
       "1286          NaN   NaN  \n",
       "1352          NaN   NaN  \n",
       "1418          NaN   NaN  \n",
       "...           ...   ...  \n",
       "391012        NaN   NaN  \n",
       "391232        NaN   NaN  \n",
       "391525        NaN   NaN  \n",
       "391780        NaN   NaN  \n",
       "391795        NaN   NaN  \n",
       "392067        NaN   NaN  \n",
       "392198        NaN   NaN  \n",
       "392452        NaN   NaN  \n",
       "392948        NaN   NaN  \n",
       "393017        NaN   NaN  \n",
       "393272        NaN   NaN  \n",
       "393464        NaN   NaN  \n",
       "393690        NaN   NaN  \n",
       "394056        NaN   NaN  \n",
       "394231        NaN   NaN  \n",
       "394501        NaN   NaN  \n",
       "394607        NaN   NaN  \n",
       "394688        NaN   NaN  \n",
       "395149        NaN   NaN  \n",
       "395327        NaN   NaN  \n",
       "395382        NaN   NaN  \n",
       "395384        NaN   NaN  \n",
       "395490        NaN   NaN  \n",
       "395691        NaN   NaN  \n",
       "395841        NaN   NaN  \n",
       "396033        NaN   NaN  \n",
       "396248        NaN   NaN  \n",
       "396976        NaN   NaN  \n",
       "397389        NaN   NaN  \n",
       "397750        NaN   NaN  \n",
       "\n",
       "[3334 rows x 8 columns]"
      ]
     },
     "execution_count": 25,
     "metadata": {},
     "output_type": "execute_result"
    }
   ],
   "source": [
    "# Combine 2018 test data with average\n",
    "df_pred = pd.merge(df_2018_test, df_clean, how='left', on=['ID', 'date_mm_dd'])\n",
    "df_pred[df_pred['mean'].isnull()]\n"
   ]
  },
  {
   "cell_type": "code",
   "execution_count": 26,
   "metadata": {},
   "outputs": [
    {
     "name": "stderr",
     "output_type": "stream",
     "text": [
      "C:\\Users\\mhamsho\\Anaconda\\lib\\site-packages\\pandas\\core\\generic.py:3660: SettingWithCopyWarning: \n",
      "A value is trying to be set on a copy of a slice from a DataFrame\n",
      "\n",
      "See the caveats in the documentation: http://pandas.pydata.org/pandas-docs/stable/indexing.html#indexing-view-versus-copy\n",
      "  self._update_inplace(new_data)\n",
      "C:\\Users\\mhamsho\\Anaconda\\lib\\site-packages\\ipykernel_launcher.py:3: SettingWithCopyWarning: \n",
      "A value is trying to be set on a copy of a slice from a DataFrame.\n",
      "Try using .loc[row_indexer,col_indexer] = value instead\n",
      "\n",
      "See the caveats in the documentation: http://pandas.pydata.org/pandas-docs/stable/indexing.html#indexing-view-versus-copy\n",
      "  This is separate from the ipykernel package so we can avoid doing imports until\n"
     ]
    }
   ],
   "source": [
    "df_pred_formatted = df_pred[['ID', 'DATE', 'mean']]\n",
    "df_pred_formatted['mean'].fillna(0, inplace=True)\n",
    "df_pred_formatted['SUB_ID'] = df_pred_formatted[['DATE','ID']].apply(lambda x : '{}{}'.format(x[0],x[1]), axis=1)\n"
   ]
  },
  {
   "cell_type": "code",
   "execution_count": 27,
   "metadata": {
    "collapsed": true
   },
   "outputs": [],
   "source": [
    "df_final = df_pred_formatted[['SUB_ID', 'mean']]"
   ]
  },
  {
   "cell_type": "code",
   "execution_count": 28,
   "metadata": {},
   "outputs": [
    {
     "data": {
      "text/html": [
       "<div>\n",
       "<style>\n",
       "    .dataframe thead tr:only-child th {\n",
       "        text-align: right;\n",
       "    }\n",
       "\n",
       "    .dataframe thead th {\n",
       "        text-align: left;\n",
       "    }\n",
       "\n",
       "    .dataframe tbody tr th {\n",
       "        vertical-align: top;\n",
       "    }\n",
       "</style>\n",
       "<table border=\"1\" class=\"dataframe\">\n",
       "  <thead>\n",
       "    <tr style=\"text-align: right;\">\n",
       "      <th></th>\n",
       "      <th>SUB_ID</th>\n",
       "      <th>mean</th>\n",
       "    </tr>\n",
       "  </thead>\n",
       "  <tbody>\n",
       "    <tr>\n",
       "      <th>397799</th>\n",
       "      <td>20180220USC00304174</td>\n",
       "      <td>-100.0</td>\n",
       "    </tr>\n",
       "    <tr>\n",
       "      <th>397800</th>\n",
       "      <td>20180220USC00246647</td>\n",
       "      <td>-44.5</td>\n",
       "    </tr>\n",
       "    <tr>\n",
       "      <th>397801</th>\n",
       "      <td>20180220USC00094170</td>\n",
       "      <td>25.0</td>\n",
       "    </tr>\n",
       "    <tr>\n",
       "      <th>397802</th>\n",
       "      <td>20180220ROE00108889</td>\n",
       "      <td>12.0</td>\n",
       "    </tr>\n",
       "    <tr>\n",
       "      <th>397803</th>\n",
       "      <td>20180220USC00086092</td>\n",
       "      <td>116.5</td>\n",
       "    </tr>\n",
       "  </tbody>\n",
       "</table>\n",
       "</div>"
      ],
      "text/plain": [
       "                     SUB_ID   mean\n",
       "397799  20180220USC00304174 -100.0\n",
       "397800  20180220USC00246647  -44.5\n",
       "397801  20180220USC00094170   25.0\n",
       "397802  20180220ROE00108889   12.0\n",
       "397803  20180220USC00086092  116.5"
      ]
     },
     "execution_count": 28,
     "metadata": {},
     "output_type": "execute_result"
    }
   ],
   "source": [
    "df_final.tail()"
   ]
  },
  {
   "cell_type": "code",
   "execution_count": 29,
   "metadata": {
    "collapsed": true
   },
   "outputs": [],
   "source": [
    "\n",
    "df_final.to_csv('dma_submission_1.csv')"
   ]
  },
  {
   "cell_type": "code",
   "execution_count": 30,
   "metadata": {},
   "outputs": [
    {
     "data": {
      "text/html": [
       "<div>\n",
       "<style>\n",
       "    .dataframe thead tr:only-child th {\n",
       "        text-align: right;\n",
       "    }\n",
       "\n",
       "    .dataframe thead th {\n",
       "        text-align: left;\n",
       "    }\n",
       "\n",
       "    .dataframe tbody tr th {\n",
       "        vertical-align: top;\n",
       "    }\n",
       "</style>\n",
       "<table border=\"1\" class=\"dataframe\">\n",
       "  <thead>\n",
       "    <tr style=\"text-align: right;\">\n",
       "      <th></th>\n",
       "      <th>SUB_ID</th>\n",
       "      <th>mean</th>\n",
       "    </tr>\n",
       "  </thead>\n",
       "  <tbody>\n",
       "    <tr>\n",
       "      <th>0</th>\n",
       "      <td>20180101ASN00015643</td>\n",
       "      <td>213.25</td>\n",
       "    </tr>\n",
       "    <tr>\n",
       "      <th>1</th>\n",
       "      <td>20180101ASN00085296</td>\n",
       "      <td>152.50</td>\n",
       "    </tr>\n",
       "    <tr>\n",
       "      <th>2</th>\n",
       "      <td>20180101ASN00085280</td>\n",
       "      <td>121.75</td>\n",
       "    </tr>\n",
       "    <tr>\n",
       "      <th>3</th>\n",
       "      <td>20180101CA005030984</td>\n",
       "      <td>-212.50</td>\n",
       "    </tr>\n",
       "    <tr>\n",
       "      <th>4</th>\n",
       "      <td>20180101CA003076680</td>\n",
       "      <td>-164.75</td>\n",
       "    </tr>\n",
       "  </tbody>\n",
       "</table>\n",
       "</div>"
      ],
      "text/plain": [
       "                SUB_ID    mean\n",
       "0  20180101ASN00015643  213.25\n",
       "1  20180101ASN00085296  152.50\n",
       "2  20180101ASN00085280  121.75\n",
       "3  20180101CA005030984 -212.50\n",
       "4  20180101CA003076680 -164.75"
      ]
     },
     "execution_count": 30,
     "metadata": {},
     "output_type": "execute_result"
    }
   ],
   "source": [
    "df_final.head()"
   ]
  },
  {
   "cell_type": "code",
   "execution_count": 31,
   "metadata": {},
   "outputs": [
    {
     "data": {
      "text/plain": [
       "element\n",
       "date_mm_dd    2.102255e+192\n",
       "TMIN_2014      1.332812e+02\n",
       "TMIN_2015      1.406957e+02\n",
       "TMIN_2016      1.360526e+02\n",
       "TMIN_2017      1.440000e+02\n",
       "mean           1.385612e+02\n",
       "dtype: float64"
      ]
     },
     "execution_count": 31,
     "metadata": {},
     "output_type": "execute_result"
    }
   ],
   "source": [
    "df_clean[df_clean.ID == 'AE000041196'].mean()"
   ]
  },
  {
   "cell_type": "markdown",
   "metadata": {
    "collapsed": true
   },
   "source": [
    "## Marc's addition"
   ]
  },
  {
   "cell_type": "code",
   "execution_count": 32,
   "metadata": {
    "collapsed": true
   },
   "outputs": [],
   "source": [
    "## WARNING ##\n",
    "# This cell takes a long time to run!!! (about 45min on my mac book pro)\n",
    "# It simply calculates the average per station for all January / Februray over the 4 years of history\n",
    "# This average per station is the predicted value\n",
    "\n",
    "# for station in df_clean.ID.unique():\n",
    "#     station_winter_average = df_clean[df_clean.ID == station].mean()[0:4].mean()\n",
    "#     df_clean.loc[df_clean.ID == station, 'station_winter_average'] = station_winter_average"
   ]
  },
  {
   "cell_type": "code",
   "execution_count": 33,
   "metadata": {
    "collapsed": true
   },
   "outputs": [],
   "source": [
    "# Combine 2018 test data with average\n",
    "# df_pred2 = pd.merge(df_2018_test, df_clean, how='left', on=['ID', 'date_mm_dd'])\n",
    "\n",
    "# df_pred_formatted2 = df_pred2[['ID', 'DATE', 'station_winter_average']]\n",
    "# df_pred_formatted2['station_winter_average'].fillna(0, inplace=True)\n",
    "# df_pred_formatted2['SUB_ID'] = df_pred_formatted2[['DATE','ID']].apply(lambda x : '{}{}'.format(x[0],x[1]), axis=1)\n",
    "\n",
    "# df_final2 = df_pred_formatted2[['SUB_ID', 'station_winter_average']]\n",
    "\n",
    "# df_final2 = pd.DataFrame(np.insert(df_final2.values, 0, values=['SUB_ID', 'DATA_VALUE'], axis=0))\n"
   ]
  },
  {
   "cell_type": "code",
   "execution_count": 34,
   "metadata": {
    "collapsed": true
   },
   "outputs": [],
   "source": [
    "# print(len(df_final2))\n",
    "# df_final2.head()\n"
   ]
  },
  {
   "cell_type": "code",
   "execution_count": 35,
   "metadata": {
    "collapsed": true
   },
   "outputs": [],
   "source": [
    "# df_final2.to_csv('dma_submission_2.csv', index = False, header = False)"
   ]
  },
  {
   "cell_type": "markdown",
   "metadata": {},
   "source": [
    " --- That's it for Marc ----\n",
    "  \n",
    "   \n",
    "    \n",
    "     \n",
    "      "
   ]
  },
  {
   "cell_type": "markdown",
   "metadata": {
    "collapsed": true
   },
   "source": [
    "-- That's it for Nasha --"
   ]
  },
  {
   "cell_type": "code",
   "execution_count": 36,
   "metadata": {
    "collapsed": true
   },
   "outputs": [],
   "source": [
    "#ideas: Cluster based on id and tmin and date\n",
    "# Find previous based on previous week's data only for the first 7 days- use the rest as they are\n",
    "# Featurise based on location, data and id\n",
    "\n",
    "# training data\n",
    "\n",
    "# 1 Location(State) LocationID Tmin (T-10) Tmin (T-9) ---(T-1)   y-> T0\n",
    "# 2 "
   ]
  },
  {
   "cell_type": "code",
   "execution_count": 37,
   "metadata": {},
   "outputs": [
    {
     "name": "stderr",
     "output_type": "stream",
     "text": [
      "C:\\Users\\mhamsho\\Anaconda\\lib\\site-packages\\pandas\\core\\generic.py:3660: SettingWithCopyWarning: \n",
      "A value is trying to be set on a copy of a slice from a DataFrame\n",
      "\n",
      "See the caveats in the documentation: http://pandas.pydata.org/pandas-docs/stable/indexing.html#indexing-view-versus-copy\n",
      "  self._update_inplace(new_data)\n",
      "C:\\Users\\mhamsho\\Anaconda\\lib\\site-packages\\ipykernel_launcher.py:6: SettingWithCopyWarning: \n",
      "A value is trying to be set on a copy of a slice from a DataFrame.\n",
      "Try using .loc[row_indexer,col_indexer] = value instead\n",
      "\n",
      "See the caveats in the documentation: http://pandas.pydata.org/pandas-docs/stable/indexing.html#indexing-view-versus-copy\n",
      "  \n",
      "C:\\Users\\mhamsho\\Anaconda\\lib\\site-packages\\pandas\\core\\indexing.py:179: SettingWithCopyWarning: \n",
      "A value is trying to be set on a copy of a slice from a DataFrame\n",
      "\n",
      "See the caveats in the documentation: http://pandas.pydata.org/pandas-docs/stable/indexing.html#indexing-view-versus-copy\n",
      "  self._setitem_with_indexer(indexer, value)\n",
      "C:\\Users\\mhamsho\\Anaconda\\lib\\site-packages\\ipykernel_launcher.py:7: SettingWithCopyWarning: \n",
      "A value is trying to be set on a copy of a slice from a DataFrame\n",
      "\n",
      "See the caveats in the documentation: http://pandas.pydata.org/pandas-docs/stable/indexing.html#indexing-view-versus-copy\n",
      "  import sys\n"
     ]
    }
   ],
   "source": [
    "#print(df_clean.tail())\n",
    "df_clean['TMIN_2014'].fillna(method='ffill', inplace=True)\n",
    "df_clean['TMIN_2015'].fillna(method='ffill', inplace=True)\n",
    "df_clean['TMIN_2016'].fillna(method='ffill', inplace=True)\n",
    "df_clean['TMIN_2017'].fillna(method='ffill', inplace=True)\n",
    "df_clean['mean'] = get_avg_2018(df_clean[['TMIN_2014', 'TMIN_2015', 'TMIN_2016', 'TMIN_2017' ]])\n",
    "df_clean['TMIN_2016'].iloc[0] = 140\n"
   ]
  },
  {
   "cell_type": "code",
   "execution_count": 38,
   "metadata": {},
   "outputs": [
    {
     "data": {
      "text/html": [
       "<div>\n",
       "<style>\n",
       "    .dataframe thead tr:only-child th {\n",
       "        text-align: right;\n",
       "    }\n",
       "\n",
       "    .dataframe thead th {\n",
       "        text-align: left;\n",
       "    }\n",
       "\n",
       "    .dataframe tbody tr th {\n",
       "        vertical-align: top;\n",
       "    }\n",
       "</style>\n",
       "<table border=\"1\" class=\"dataframe\">\n",
       "  <thead>\n",
       "    <tr style=\"text-align: right;\">\n",
       "      <th>element</th>\n",
       "      <th>date_mm_dd</th>\n",
       "      <th>ID</th>\n",
       "      <th>TMIN_2014</th>\n",
       "      <th>TMIN_2015</th>\n",
       "      <th>TMIN_2016</th>\n",
       "      <th>TMIN_2017</th>\n",
       "      <th>mean</th>\n",
       "    </tr>\n",
       "  </thead>\n",
       "  <tbody>\n",
       "    <tr>\n",
       "      <th>769722</th>\n",
       "      <td>0214</td>\n",
       "      <td>ZA000067743</td>\n",
       "      <td>190.0</td>\n",
       "      <td>124.0</td>\n",
       "      <td>194.0</td>\n",
       "      <td>186.0</td>\n",
       "      <td>173.50</td>\n",
       "    </tr>\n",
       "    <tr>\n",
       "      <th>769723</th>\n",
       "      <td>0215</td>\n",
       "      <td>ZA000067743</td>\n",
       "      <td>205.0</td>\n",
       "      <td>124.0</td>\n",
       "      <td>194.0</td>\n",
       "      <td>186.0</td>\n",
       "      <td>177.25</td>\n",
       "    </tr>\n",
       "    <tr>\n",
       "      <th>769724</th>\n",
       "      <td>0217</td>\n",
       "      <td>ZA000067743</td>\n",
       "      <td>175.0</td>\n",
       "      <td>124.0</td>\n",
       "      <td>194.0</td>\n",
       "      <td>186.0</td>\n",
       "      <td>169.75</td>\n",
       "    </tr>\n",
       "    <tr>\n",
       "      <th>769725</th>\n",
       "      <td>0219</td>\n",
       "      <td>ZA000067743</td>\n",
       "      <td>185.0</td>\n",
       "      <td>124.0</td>\n",
       "      <td>194.0</td>\n",
       "      <td>186.0</td>\n",
       "      <td>172.25</td>\n",
       "    </tr>\n",
       "    <tr>\n",
       "      <th>769726</th>\n",
       "      <td>0220</td>\n",
       "      <td>ZA000067743</td>\n",
       "      <td>160.0</td>\n",
       "      <td>124.0</td>\n",
       "      <td>194.0</td>\n",
       "      <td>186.0</td>\n",
       "      <td>166.00</td>\n",
       "    </tr>\n",
       "  </tbody>\n",
       "</table>\n",
       "</div>"
      ],
      "text/plain": [
       "element date_mm_dd           ID  TMIN_2014  TMIN_2015  TMIN_2016  TMIN_2017  \\\n",
       "769722        0214  ZA000067743      190.0      124.0      194.0      186.0   \n",
       "769723        0215  ZA000067743      205.0      124.0      194.0      186.0   \n",
       "769724        0217  ZA000067743      175.0      124.0      194.0      186.0   \n",
       "769725        0219  ZA000067743      185.0      124.0      194.0      186.0   \n",
       "769726        0220  ZA000067743      160.0      124.0      194.0      186.0   \n",
       "\n",
       "element    mean  \n",
       "769722   173.50  \n",
       "769723   177.25  \n",
       "769724   169.75  \n",
       "769725   172.25  \n",
       "769726   166.00  "
      ]
     },
     "execution_count": 38,
     "metadata": {},
     "output_type": "execute_result"
    }
   ],
   "source": [
    "\n",
    "df_clean.tail()"
   ]
  },
  {
   "cell_type": "code",
   "execution_count": 39,
   "metadata": {},
   "outputs": [
    {
     "name": "stderr",
     "output_type": "stream",
     "text": [
      "C:\\Users\\mhamsho\\Anaconda\\lib\\site-packages\\ipykernel_launcher.py:9: SettingWithCopyWarning: \n",
      "A value is trying to be set on a copy of a slice from a DataFrame.\n",
      "Try using .loc[row_indexer,col_indexer] = value instead\n",
      "\n",
      "See the caveats in the documentation: http://pandas.pydata.org/pandas-docs/stable/indexing.html#indexing-view-versus-copy\n",
      "  if __name__ == '__main__':\n"
     ]
    }
   ],
   "source": [
    "import re\n",
    "def split_state(value):\n",
    "    x = re.match('[^0]*', value)\n",
    "    return x.group(0)\n",
    "\n",
    "def create_state(col):\n",
    "    return col.apply(split_state)\n",
    "\n",
    "df_clean['state'] = create_state(df_clean['ID'].astype('str'))\n",
    "df_2018_test['state'] = create_state(df_2018_test['ID'].astype('str'))"
   ]
  },
  {
   "cell_type": "code",
   "execution_count": 43,
   "metadata": {
    "collapsed": true
   },
   "outputs": [],
   "source": [
    "x = list(df_clean.state.unique())"
   ]
  },
  {
   "cell_type": "code",
   "execution_count": 44,
   "metadata": {
    "collapsed": true
   },
   "outputs": [],
   "source": [
    "y = list(df_2018_test.state.unique())"
   ]
  },
  {
   "cell_type": "code",
   "execution_count": 45,
   "metadata": {},
   "outputs": [],
   "source": [
    "state_intersection = [i for i , j in zip(x,y)]"
   ]
  },
  {
   "cell_type": "code",
   "execution_count": 46,
   "metadata": {},
   "outputs": [],
   "source": [
    "df_clean_intersection =df_clean[df_clean['state'].isin(state_intersection)]"
   ]
  },
  {
   "cell_type": "code",
   "execution_count": 47,
   "metadata": {},
   "outputs": [],
   "source": [
    "from sklearn.feature_extraction import DictVectorizer #to turn categorial variables into numeric arrays\n",
    "\n",
    "X = df_clean_intersection[[ 'state', 'date_mm_dd']]\n",
    "X_dict = X.to_dict( orient = 'records' )\n",
    "vec = DictVectorizer()\n",
    "X_final = vec.fit_transform(X_dict).toarray()\n",
    "\n"
   ]
  },
  {
   "cell_type": "code",
   "execution_count": 48,
   "metadata": {},
   "outputs": [],
   "source": [
    "X_test = df_2018_test[[ 'state', 'date_mm_dd']]\n",
    "X_dict = X_test.to_dict( orient = 'records' )\n",
    "vec = DictVectorizer()\n",
    "X_final_test = vec.fit_transform(X_dict).toarray()"
   ]
  },
  {
   "cell_type": "code",
   "execution_count": null,
   "metadata": {
    "collapsed": true
   },
   "outputs": [],
   "source": []
  },
  {
   "cell_type": "code",
   "execution_count": null,
   "metadata": {
    "collapsed": true
   },
   "outputs": [],
   "source": []
  },
  {
   "cell_type": "code",
   "execution_count": null,
   "metadata": {
    "collapsed": true
   },
   "outputs": [],
   "source": []
  },
  {
   "cell_type": "code",
   "execution_count": null,
   "metadata": {
    "collapsed": true
   },
   "outputs": [],
   "source": []
  },
  {
   "cell_type": "code",
   "execution_count": null,
   "metadata": {
    "collapsed": true
   },
   "outputs": [],
   "source": []
  },
  {
   "cell_type": "code",
   "execution_count": null,
   "metadata": {
    "collapsed": true
   },
   "outputs": [],
   "source": []
  },
  {
   "cell_type": "code",
   "execution_count": null,
   "metadata": {
    "collapsed": true
   },
   "outputs": [],
   "source": []
  },
  {
   "cell_type": "markdown",
   "metadata": {},
   "source": [
    "### IGNORE THIS PART: MOUDI's work"
   ]
  },
  {
   "cell_type": "code",
   "execution_count": null,
   "metadata": {},
   "outputs": [],
   "source": [
    "df_clean_2 = df_clean.drop(['TMIN_2014', 'TMIN_2015', 'TMIN_2016','TMIN_2017', 'state'], axis=1)"
   ]
  },
  {
   "cell_type": "code",
   "execution_count": null,
   "metadata": {},
   "outputs": [],
   "source": [
    "df_clean_2.head()"
   ]
  },
  {
   "cell_type": "code",
   "execution_count": null,
   "metadata": {
    "collapsed": true
   },
   "outputs": [],
   "source": [
    "df_pred_2 = pd.merge(df_2018_test, df_clean_2, how='left', on=['ID', 'date_mm_dd'])\n"
   ]
  },
  {
   "cell_type": "code",
   "execution_count": null,
   "metadata": {},
   "outputs": [],
   "source": [
    "df_pred_2.drop(['state', 'date_mm_dd'],axis=1, inplace=True)"
   ]
  },
  {
   "cell_type": "code",
   "execution_count": null,
   "metadata": {},
   "outputs": [],
   "source": [
    "df_pred_2.head()"
   ]
  },
  {
   "cell_type": "code",
   "execution_count": null,
   "metadata": {},
   "outputs": [],
   "source": []
  },
  {
   "cell_type": "code",
   "execution_count": null,
   "metadata": {},
   "outputs": [],
   "source": [
    "df_2018_test.head()"
   ]
  },
  {
   "cell_type": "code",
   "execution_count": null,
   "metadata": {
    "collapsed": true
   },
   "outputs": [],
   "source": [
    "df_pred_2['SUB_ID'] = df_pred_2[['DATE','ID']].apply(lambda x : '{}{}'.format(x[0],x[1]), axis=1)"
   ]
  },
  {
   "cell_type": "code",
   "execution_count": null,
   "metadata": {
    "collapsed": true
   },
   "outputs": [],
   "source": [
    "df_final_2 = df_pred_2[['SUB_ID','mean']]"
   ]
  },
  {
   "cell_type": "code",
   "execution_count": null,
   "metadata": {},
   "outputs": [],
   "source": [
    "df_final_2.isnull().sum()"
   ]
  },
  {
   "cell_type": "code",
   "execution_count": null,
   "metadata": {},
   "outputs": [],
   "source": [
    "df_final_2['mean'].fillna(method='ffill', inplace=True)\n"
   ]
  },
  {
   "cell_type": "code",
   "execution_count": null,
   "metadata": {},
   "outputs": [],
   "source": [
    "df_final_2.isnull().sum()"
   ]
  },
  {
   "cell_type": "code",
   "execution_count": null,
   "metadata": {},
   "outputs": [],
   "source": [
    "len(df_final_2)"
   ]
  },
  {
   "cell_type": "code",
   "execution_count": null,
   "metadata": {},
   "outputs": [],
   "source": [
    "len(df_2018_test)"
   ]
  },
  {
   "cell_type": "code",
   "execution_count": null,
   "metadata": {},
   "outputs": [],
   "source": [
    "df_final_2.reset_index(drop=True, inplace=True)"
   ]
  },
  {
   "cell_type": "code",
   "execution_count": null,
   "metadata": {},
   "outputs": [],
   "source": [
    "df_final_2.rename(columns={'mean':'DATA_VALUE'},inplace=True)"
   ]
  },
  {
   "cell_type": "code",
   "execution_count": null,
   "metadata": {},
   "outputs": [],
   "source": [
    "df_final_2.to_csv('submission_4.csv',index=False)"
   ]
  },
  {
   "cell_type": "markdown",
   "metadata": {},
   "source": [
    "#### END"
   ]
  },
  {
   "cell_type": "code",
   "execution_count": null,
   "metadata": {
    "collapsed": true
   },
   "outputs": [],
   "source": []
  },
  {
   "cell_type": "code",
   "execution_count": null,
   "metadata": {
    "collapsed": true
   },
   "outputs": [],
   "source": []
  },
  {
   "cell_type": "markdown",
   "metadata": {},
   "source": [
    "## MODEL BUILDING START"
   ]
  },
  {
   "cell_type": "code",
   "execution_count": null,
   "metadata": {
    "collapsed": true
   },
   "outputs": [],
   "source": []
  },
  {
   "cell_type": "code",
   "execution_count": null,
   "metadata": {},
   "outputs": [],
   "source": [
    "df_2018_test.head()"
   ]
  },
  {
   "cell_type": "code",
   "execution_count": null,
   "metadata": {
    "collapsed": true
   },
   "outputs": [],
   "source": []
  },
  {
   "cell_type": "code",
   "execution_count": 50,
   "metadata": {},
   "outputs": [
    {
     "data": {
      "text/plain": [
       "761958"
      ]
     },
     "execution_count": 50,
     "metadata": {},
     "output_type": "execute_result"
    }
   ],
   "source": [
    "len(X_final)"
   ]
  },
  {
   "cell_type": "code",
   "execution_count": 51,
   "metadata": {},
   "outputs": [
    {
     "data": {
      "text/plain": [
       "769727"
      ]
     },
     "execution_count": 51,
     "metadata": {},
     "output_type": "execute_result"
    }
   ],
   "source": [
    "len(y)"
   ]
  },
  {
   "cell_type": "code",
   "execution_count": 53,
   "metadata": {},
   "outputs": [
    {
     "name": "stdout",
     "output_type": "stream",
     "text": [
      "0.526165902018\n",
      "[ 140.90570068  124.29168701  120.93780518 ...,  243.06567383  248.32489014\n",
      "  251.25372314]\n"
     ]
    }
   ],
   "source": [
    "#models\n",
    "#X = df_clean[['ID', 'state', 'date_mm_dd']]\n",
    "y = df_clean_intersection['mean']\n",
    "\n",
    "# X_test = df_2018_test[['ID', 'state', 'date_mm_dd']]\n",
    "from sklearn.linear_model import LinearRegression\n",
    "linreg = LinearRegression()\n",
    "linreg = linreg.fit(X_final, y)\n",
    "\n",
    "print(linreg.score(X_final,y))\n",
    "\n",
    "y_pred = linreg.predict(X_final)\n",
    "\n",
    "# print(\"Mean squared error: %.2f\"\n",
    "#      % mean_squared_error(y_test, y_pred))\n",
    "\n",
    "#print(linreg.score(X_test,y_test))\n",
    "print(y_pred)"
   ]
  },
  {
   "cell_type": "code",
   "execution_count": 54,
   "metadata": {},
   "outputs": [
    {
     "name": "stdout",
     "output_type": "stream",
     "text": [
      "Accuracy of Linear Regression on test set: 0.52617\n"
     ]
    }
   ],
   "source": [
    "print('Accuracy of Linear Regression on test set: {:.5f}'.format(linreg.score(X_final, y)))"
   ]
  },
  {
   "cell_type": "code",
   "execution_count": null,
   "metadata": {
    "collapsed": true
   },
   "outputs": [],
   "source": []
  },
  {
   "cell_type": "markdown",
   "metadata": {},
   "source": [
    "### 2018_test run"
   ]
  },
  {
   "cell_type": "code",
   "execution_count": 55,
   "metadata": {},
   "outputs": [],
   "source": [
    "y_pred_2018 = linreg.predict(X_final_test)"
   ]
  },
  {
   "cell_type": "code",
   "execution_count": 58,
   "metadata": {},
   "outputs": [
    {
     "data": {
      "text/plain": [
       "397804"
      ]
     },
     "execution_count": 58,
     "metadata": {},
     "output_type": "execute_result"
    }
   ],
   "source": [
    "len(y_pred_2018)"
   ]
  },
  {
   "cell_type": "code",
   "execution_count": 57,
   "metadata": {},
   "outputs": [
    {
     "data": {
      "text/plain": [
       "(397804, 4)"
      ]
     },
     "execution_count": 57,
     "metadata": {},
     "output_type": "execute_result"
    }
   ],
   "source": [
    "df_2018_test.shape"
   ]
  },
  {
   "cell_type": "code",
   "execution_count": 59,
   "metadata": {
    "collapsed": true
   },
   "outputs": [],
   "source": [
    "df_2018_test['DATA_VALUE'] = y_pred_2018"
   ]
  },
  {
   "cell_type": "code",
   "execution_count": 62,
   "metadata": {},
   "outputs": [
    {
     "name": "stderr",
     "output_type": "stream",
     "text": [
      "C:\\Users\\mhamsho\\Anaconda\\lib\\site-packages\\ipykernel_launcher.py:1: SettingWithCopyWarning: \n",
      "A value is trying to be set on a copy of a slice from a DataFrame.\n",
      "Try using .loc[row_indexer,col_indexer] = value instead\n",
      "\n",
      "See the caveats in the documentation: http://pandas.pydata.org/pandas-docs/stable/indexing.html#indexing-view-versus-copy\n",
      "  \"\"\"Entry point for launching an IPython kernel.\n"
     ]
    }
   ],
   "source": [
    "df_final['mean'] = y_pred_2018"
   ]
  },
  {
   "cell_type": "code",
   "execution_count": 63,
   "metadata": {},
   "outputs": [
    {
     "name": "stderr",
     "output_type": "stream",
     "text": [
      "C:\\Users\\mhamsho\\Anaconda\\lib\\site-packages\\pandas\\core\\frame.py:2746: SettingWithCopyWarning: \n",
      "A value is trying to be set on a copy of a slice from a DataFrame\n",
      "\n",
      "See the caveats in the documentation: http://pandas.pydata.org/pandas-docs/stable/indexing.html#indexing-view-versus-copy\n",
      "  **kwargs)\n"
     ]
    }
   ],
   "source": [
    "df_final.rename(columns={'mean':'DATA_VALUE'}, inplace=True)"
   ]
  },
  {
   "cell_type": "code",
   "execution_count": 64,
   "metadata": {},
   "outputs": [
    {
     "data": {
      "text/html": [
       "<div>\n",
       "<style>\n",
       "    .dataframe thead tr:only-child th {\n",
       "        text-align: right;\n",
       "    }\n",
       "\n",
       "    .dataframe thead th {\n",
       "        text-align: left;\n",
       "    }\n",
       "\n",
       "    .dataframe tbody tr th {\n",
       "        vertical-align: top;\n",
       "    }\n",
       "</style>\n",
       "<table border=\"1\" class=\"dataframe\">\n",
       "  <thead>\n",
       "    <tr style=\"text-align: right;\">\n",
       "      <th></th>\n",
       "      <th>SUB_ID</th>\n",
       "      <th>DATA_VALUE</th>\n",
       "    </tr>\n",
       "  </thead>\n",
       "  <tbody>\n",
       "    <tr>\n",
       "      <th>0</th>\n",
       "      <td>20180101ASN00015643</td>\n",
       "      <td>181.947937</td>\n",
       "    </tr>\n",
       "    <tr>\n",
       "      <th>1</th>\n",
       "      <td>20180101ASN00085296</td>\n",
       "      <td>181.947937</td>\n",
       "    </tr>\n",
       "    <tr>\n",
       "      <th>2</th>\n",
       "      <td>20180101ASN00085280</td>\n",
       "      <td>181.947937</td>\n",
       "    </tr>\n",
       "    <tr>\n",
       "      <th>3</th>\n",
       "      <td>20180101CA005030984</td>\n",
       "      <td>-121.853333</td>\n",
       "    </tr>\n",
       "    <tr>\n",
       "      <th>4</th>\n",
       "      <td>20180101CA003076680</td>\n",
       "      <td>-121.853333</td>\n",
       "    </tr>\n",
       "  </tbody>\n",
       "</table>\n",
       "</div>"
      ],
      "text/plain": [
       "                SUB_ID  DATA_VALUE\n",
       "0  20180101ASN00015643  181.947937\n",
       "1  20180101ASN00085296  181.947937\n",
       "2  20180101ASN00085280  181.947937\n",
       "3  20180101CA005030984 -121.853333\n",
       "4  20180101CA003076680 -121.853333"
      ]
     },
     "execution_count": 64,
     "metadata": {},
     "output_type": "execute_result"
    }
   ],
   "source": [
    "df_final.head()"
   ]
  },
  {
   "cell_type": "code",
   "execution_count": 65,
   "metadata": {
    "collapsed": true
   },
   "outputs": [],
   "source": [
    "df_final.to_csv('submission_5.csv',index=False)"
   ]
  },
  {
   "cell_type": "code",
   "execution_count": null,
   "metadata": {
    "collapsed": true
   },
   "outputs": [],
   "source": []
  },
  {
   "cell_type": "markdown",
   "metadata": {},
   "source": [
    "#### MODEL FINISH"
   ]
  },
  {
   "cell_type": "code",
   "execution_count": null,
   "metadata": {
    "collapsed": true
   },
   "outputs": [],
   "source": []
  },
  {
   "cell_type": "code",
   "execution_count": null,
   "metadata": {
    "collapsed": true
   },
   "outputs": [],
   "source": []
  },
  {
   "cell_type": "code",
   "execution_count": null,
   "metadata": {
    "collapsed": true
   },
   "outputs": [],
   "source": []
  },
  {
   "cell_type": "code",
   "execution_count": null,
   "metadata": {},
   "outputs": [],
   "source": [
    "print(X_final.shape)"
   ]
  },
  {
   "cell_type": "code",
   "execution_count": null,
   "metadata": {
    "collapsed": true
   },
   "outputs": [],
   "source": [
    "df_clean.tail()\n",
    "\n",
    "df_clean['location'], df_clean['location_id'] = df_clean['ID'].str.split('0', 1, expand=True)\n",
    "df_clean.head()"
   ]
  },
  {
   "cell_type": "code",
   "execution_count": null,
   "metadata": {
    "collapsed": true
   },
   "outputs": [],
   "source": [
    "submission_sample = pd.read_csv(\"data/sample_submission.csv\", low_memory=False, encoding = \"ISO-8859-1\", header=None)\n"
   ]
  },
  {
   "cell_type": "code",
   "execution_count": null,
   "metadata": {
    "collapsed": true
   },
   "outputs": [],
   "source": [
    "print(len(submission_sample))\n",
    "submission_sample.head()"
   ]
  },
  {
   "cell_type": "code",
   "execution_count": null,
   "metadata": {
    "collapsed": true
   },
   "outputs": [],
   "source": []
  },
  {
   "cell_type": "code",
   "execution_count": null,
   "metadata": {
    "collapsed": true
   },
   "outputs": [],
   "source": []
  },
  {
   "cell_type": "code",
   "execution_count": null,
   "metadata": {
    "collapsed": true
   },
   "outputs": [],
   "source": [
    "df_unstacked_core = df_unstacked[[ 'PRCP', 'SNOW', 'SNWD', 'TMAX', 'TMIN']]"
   ]
  },
  {
   "cell_type": "code",
   "execution_count": null,
   "metadata": {
    "collapsed": true
   },
   "outputs": [],
   "source": [
    "df_unstacked_core.head()"
   ]
  },
  {
   "cell_type": "code",
   "execution_count": null,
   "metadata": {
    "collapsed": true
   },
   "outputs": [],
   "source": [
    "df_unstacked_core.isnull().sum()"
   ]
  },
  {
   "cell_type": "code",
   "execution_count": null,
   "metadata": {
    "collapsed": true
   },
   "outputs": [],
   "source": [
    "len(df_unstacked_core)"
   ]
  },
  {
   "cell_type": "code",
   "execution_count": null,
   "metadata": {
    "collapsed": true
   },
   "outputs": [],
   "source": []
  },
  {
   "cell_type": "code",
   "execution_count": null,
   "metadata": {
    "collapsed": true
   },
   "outputs": [],
   "source": []
  },
  {
   "cell_type": "markdown",
   "metadata": {},
   "source": [
    "#### Mahmoud "
   ]
  },
  {
   "cell_type": "code",
   "execution_count": null,
   "metadata": {
    "collapsed": true
   },
   "outputs": [],
   "source": [
    "df_unstacked['TMIN'].isnull().sum()"
   ]
  },
  {
   "cell_type": "code",
   "execution_count": null,
   "metadata": {
    "collapsed": true
   },
   "outputs": [],
   "source": [
    "df_unstacked['TMAX'].isnull().sum()"
   ]
  },
  {
   "cell_type": "code",
   "execution_count": null,
   "metadata": {
    "collapsed": true
   },
   "outputs": [],
   "source": [
    "df_unstacked.shape"
   ]
  },
  {
   "cell_type": "code",
   "execution_count": null,
   "metadata": {
    "collapsed": true
   },
   "outputs": [],
   "source": [
    "df_2017.shape"
   ]
  },
  {
   "cell_type": "code",
   "execution_count": null,
   "metadata": {
    "collapsed": true
   },
   "outputs": [],
   "source": [
    "df_unstacked['TMIN'].describe()"
   ]
  },
  {
   "cell_type": "code",
   "execution_count": null,
   "metadata": {
    "collapsed": true
   },
   "outputs": [],
   "source": [
    "temp_df = df_unstacked.query(('TMAX >= 0 or TMAX <0') or ('TMIN >=0 or TMIN <0'))"
   ]
  },
  {
   "cell_type": "code",
   "execution_count": null,
   "metadata": {
    "collapsed": true
   },
   "outputs": [],
   "source": [
    "temp_df['TMIN'] = temp_df['TMIN'].fillna(temp_df['TMIN'].mean())"
   ]
  },
  {
   "cell_type": "code",
   "execution_count": null,
   "metadata": {
    "collapsed": true
   },
   "outputs": [],
   "source": [
    "temp_df = pd.merge(temp_df, df_2017_filtered, right_index=True, left_index=True)"
   ]
  },
  {
   "cell_type": "code",
   "execution_count": null,
   "metadata": {
    "collapsed": true
   },
   "outputs": [],
   "source": [
    "temp_df.columns"
   ]
  },
  {
   "cell_type": "code",
   "execution_count": null,
   "metadata": {
    "collapsed": true
   },
   "outputs": [],
   "source": [
    "temp_df.columns\n",
    "columns = ['AWDR', 'AWND', 'DAPR', 'DATN', 'DWPR', 'EVAP', 'MDPR', 'MDTN', 'MNPN', 'MXPN', 'PGTM', 'PRCP', 'PSUN', 'SN31', 'SN32', 'SN33',\n",
    "       'SN35', 'SN36', 'SN51', 'SN52', 'SN53', 'SN55', 'SN56', 'SNOW', 'SNWD',\n",
    "       'SX31', 'SX32', 'SX33', 'SX35', 'SX36', 'SX51', 'SX52', 'SX53', 'SX55',\n",
    "       'SX56', 'TAVG', 'THIC', 'TMAX', 'TMIN', 'TOBS', 'TSUN', 'WDF2', 'WDF5',\n",
    "       'WDFG', 'WDMV', 'WESD', 'WESF', 'WSF2', 'WSF5', 'WSFG', 'WSFI', 'WT01',\n",
    "       'WT02', 'WT03', 'WT04', 'WT05', 'WT06', 'WT08', 'WT09', 'WT11', 'obsTime']"
   ]
  },
  {
   "cell_type": "code",
   "execution_count": null,
   "metadata": {
    "collapsed": true
   },
   "outputs": [],
   "source": [
    "y = temp_df['TMIN']\n",
    "X = temp_df[columns]"
   ]
  },
  {
   "cell_type": "code",
   "execution_count": null,
   "metadata": {
    "collapsed": true
   },
   "outputs": [],
   "source": [
    "X.columns"
   ]
  },
  {
   "cell_type": "code",
   "execution_count": null,
   "metadata": {
    "collapsed": true
   },
   "outputs": [],
   "source": []
  },
  {
   "cell_type": "code",
   "execution_count": null,
   "metadata": {
    "collapsed": true
   },
   "outputs": [],
   "source": [
    "X.fillna(X.mean(), inplace=True)"
   ]
  },
  {
   "cell_type": "code",
   "execution_count": null,
   "metadata": {
    "collapsed": true
   },
   "outputs": [],
   "source": [
    "X.shape"
   ]
  },
  {
   "cell_type": "code",
   "execution_count": null,
   "metadata": {
    "collapsed": true
   },
   "outputs": [],
   "source": []
  },
  {
   "cell_type": "code",
   "execution_count": null,
   "metadata": {
    "collapsed": true
   },
   "outputs": [],
   "source": []
  },
  {
   "cell_type": "code",
   "execution_count": null,
   "metadata": {
    "collapsed": true
   },
   "outputs": [],
   "source": []
  },
  {
   "cell_type": "code",
   "execution_count": null,
   "metadata": {
    "collapsed": true
   },
   "outputs": [],
   "source": [
    "from sklearn.feature_selection import RFE\n",
    "from sklearn.linear_model import LinearRegression\n",
    "\n",
    "# feature extraction\n",
    "svc = LinearRegression()\n",
    "rfe = RFE(estimator=svc, n_features_to_select=10, step=100)\n",
    "RFE = rfe.fit(X, y)\n",
    "\n",
    "print(RFE)\n",
    "print(RFE.n_features_)\n",
    "print(RFE.support_)\n",
    "print(RFE.ranking_)"
   ]
  },
  {
   "cell_type": "code",
   "execution_count": null,
   "metadata": {
    "collapsed": true
   },
   "outputs": [],
   "source": [
    "selected_feature = []\n",
    "rfe_list = RFE.support_\n",
    "for index in range(len(rfe_list)):\n",
    "    if rfe_list[index] == True:\n",
    "        selected_feature.append(columns[index])\n",
    "    else:\n",
    "        continue"
   ]
  },
  {
   "cell_type": "code",
   "execution_count": null,
   "metadata": {
    "collapsed": true
   },
   "outputs": [],
   "source": [
    "X.drop('TMIN',axis=1,inplace=True)"
   ]
  },
  {
   "cell_type": "code",
   "execution_count": null,
   "metadata": {
    "collapsed": true
   },
   "outputs": [],
   "source": [
    "X.describe()"
   ]
  },
  {
   "cell_type": "code",
   "execution_count": null,
   "metadata": {
    "collapsed": true
   },
   "outputs": [],
   "source": [
    "y.shape"
   ]
  },
  {
   "cell_type": "code",
   "execution_count": null,
   "metadata": {
    "collapsed": true
   },
   "outputs": [],
   "source": [
    "from sklearn.cross_validation import train_test_split\n",
    "\n",
    "X_train, X_test, y_train, y_test = train_test_split(X, y, test_size=0.33, random_state=42)"
   ]
  },
  {
   "cell_type": "code",
   "execution_count": null,
   "metadata": {
    "collapsed": true,
    "scrolled": true
   },
   "outputs": [],
   "source": [
    "# Create linear regression object\n",
    "regr = LinearRegression()\n",
    "\n",
    "# Train the model using the training sets\n",
    "regr.fit(X_train, y_train)\n",
    "\n",
    "# Make predictions using the testing set\n",
    "y_pred = regr.predict(X_test)"
   ]
  },
  {
   "cell_type": "code",
   "execution_count": null,
   "metadata": {
    "collapsed": true
   },
   "outputs": [],
   "source": [
    "print('Accuracy of Linear Regression on test set: {:.5f}'.format(regr.score(X_test, y_test)))"
   ]
  },
  {
   "cell_type": "code",
   "execution_count": null,
   "metadata": {
    "collapsed": true
   },
   "outputs": [],
   "source": [
    "from sklearn.metrics import mean_squared_error, r2_score\n",
    "\n",
    "\n",
    "print(\"Mean squared error: %.2f\"\n",
    "      % mean_squared_error(y_test, y_pred))"
   ]
  },
  {
   "cell_type": "code",
   "execution_count": null,
   "metadata": {
    "collapsed": true
   },
   "outputs": [],
   "source": []
  },
  {
   "cell_type": "code",
   "execution_count": null,
   "metadata": {
    "collapsed": true
   },
   "outputs": [],
   "source": [
    "import xgboost as xgb\n",
    "\n",
    "# specify parameters via map\n",
    "gbm = xgb.XGBClassifier(max_depth=20, learning_rate=0.2).fit(X_train, y_train)\n",
    "predictions = gbm.predict(X_test)\n"
   ]
  },
  {
   "cell_type": "code",
   "execution_count": null,
   "metadata": {
    "collapsed": true
   },
   "outputs": [],
   "source": [
    "print(\"Mean squared error: %.2f\"\n",
    "      % mean_squared_error(y_test, predictions))"
   ]
  },
  {
   "cell_type": "code",
   "execution_count": null,
   "metadata": {
    "collapsed": true
   },
   "outputs": [],
   "source": []
  }
 ],
 "metadata": {
  "anaconda-cloud": {},
  "kernelspec": {
   "display_name": "Python 3",
   "language": "python",
   "name": "python3"
  },
  "language_info": {
   "codemirror_mode": {
    "name": "ipython",
    "version": 3
   },
   "file_extension": ".py",
   "mimetype": "text/x-python",
   "name": "python",
   "nbconvert_exporter": "python",
   "pygments_lexer": "ipython3",
   "version": "3.6.3"
  }
 },
 "nbformat": 4,
 "nbformat_minor": 1
}
