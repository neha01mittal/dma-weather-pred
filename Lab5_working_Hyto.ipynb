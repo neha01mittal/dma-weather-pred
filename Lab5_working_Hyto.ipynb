{
 "cells": [
  {
   "cell_type": "markdown",
   "metadata": {},
   "source": [
    "## LAB 5 [WORKING COPY] - Hyto"
   ]
  },
  {
   "cell_type": "code",
   "execution_count": 1,
   "metadata": {},
   "outputs": [],
   "source": [
    "import sklearn\n",
    "import matplotlib.pyplot as plt\n",
    "from typing import Tuple\n",
    "from typing import List\n",
    "import plotly.plotly as py\n",
    "import plotly.graph_objs as go\n",
    "from plotly.tools import FigureFactory as FF\n",
    "%matplotlib inline\n",
    "\n",
    "import numpy as np\n",
    "import pandas as pd\n",
    "import scipy\n",
    "import pandas as pd \n",
    "from sklearn import linear_model\n",
    "from sklearn.linear_model import LinearRegression\n",
    "from sklearn.model_selection import train_test_split, GridSearchCV, cross_val_score\n",
    "from sklearn.ensemble import RandomForestClassifier\n",
    "from sklearn.metrics import confusion_matrix\n",
    "from sklearn.metrics import roc_curve, auc, classification_report, precision_recall_curve, average_precision_score\n",
    "\n",
    "from sklearn.tree import DecisionTreeClassifier\n",
    "from sklearn.feature_extraction import DictVectorizer #to turn categorial variables into numeric arrays\n",
    "from sklearn import preprocessing #to transform the feature labels\n",
    "from sklearn.model_selection import train_test_split\n",
    "\n",
    "from sklearn.svm import SVC\n",
    "\n",
    "from sklearn.metrics import mean_squared_error, r2_score\n",
    "\n",
    "import matplotlib\n",
    "import matplotlib.pyplot as plt\n",
    "from IPython.display import display, HTML\n",
    "from sklearn.metrics import precision_recall_curve\n",
    "from sklearn.ensemble import GradientBoostingClassifier"
   ]
  },
  {
   "cell_type": "code",
   "execution_count": 2,
   "metadata": {},
   "outputs": [
    {
     "data": {
      "text/html": [
       "<div>\n",
       "<style scoped>\n",
       "    .dataframe tbody tr th:only-of-type {\n",
       "        vertical-align: middle;\n",
       "    }\n",
       "\n",
       "    .dataframe tbody tr th {\n",
       "        vertical-align: top;\n",
       "    }\n",
       "\n",
       "    .dataframe thead th {\n",
       "        text-align: right;\n",
       "    }\n",
       "</style>\n",
       "<table border=\"1\" class=\"dataframe\">\n",
       "  <thead>\n",
       "    <tr style=\"text-align: right;\">\n",
       "      <th></th>\n",
       "      <th>0</th>\n",
       "      <th>1</th>\n",
       "      <th>2</th>\n",
       "      <th>3</th>\n",
       "      <th>4</th>\n",
       "      <th>5</th>\n",
       "      <th>6</th>\n",
       "      <th>7</th>\n",
       "    </tr>\n",
       "  </thead>\n",
       "  <tbody>\n",
       "    <tr>\n",
       "      <th>0</th>\n",
       "      <td>US1MNWR0029</td>\n",
       "      <td>20170101</td>\n",
       "      <td>PRCP</td>\n",
       "      <td>0</td>\n",
       "      <td>NaN</td>\n",
       "      <td>NaN</td>\n",
       "      <td>N</td>\n",
       "      <td>NaN</td>\n",
       "    </tr>\n",
       "    <tr>\n",
       "      <th>1</th>\n",
       "      <td>CA1MB000296</td>\n",
       "      <td>20170101</td>\n",
       "      <td>PRCP</td>\n",
       "      <td>0</td>\n",
       "      <td>NaN</td>\n",
       "      <td>NaN</td>\n",
       "      <td>N</td>\n",
       "      <td>NaN</td>\n",
       "    </tr>\n",
       "    <tr>\n",
       "      <th>2</th>\n",
       "      <td>ASN00015643</td>\n",
       "      <td>20170101</td>\n",
       "      <td>TMAX</td>\n",
       "      <td>274</td>\n",
       "      <td>NaN</td>\n",
       "      <td>NaN</td>\n",
       "      <td>a</td>\n",
       "      <td>NaN</td>\n",
       "    </tr>\n",
       "    <tr>\n",
       "      <th>3</th>\n",
       "      <td>ASN00015643</td>\n",
       "      <td>20170101</td>\n",
       "      <td>TMIN</td>\n",
       "      <td>218</td>\n",
       "      <td>NaN</td>\n",
       "      <td>NaN</td>\n",
       "      <td>a</td>\n",
       "      <td>NaN</td>\n",
       "    </tr>\n",
       "    <tr>\n",
       "      <th>4</th>\n",
       "      <td>ASN00015643</td>\n",
       "      <td>20170101</td>\n",
       "      <td>PRCP</td>\n",
       "      <td>2</td>\n",
       "      <td>NaN</td>\n",
       "      <td>NaN</td>\n",
       "      <td>a</td>\n",
       "      <td>NaN</td>\n",
       "    </tr>\n",
       "  </tbody>\n",
       "</table>\n",
       "</div>"
      ],
      "text/plain": [
       "             0         1     2    3    4    5  6   7\n",
       "0  US1MNWR0029  20170101  PRCP    0  NaN  NaN  N NaN\n",
       "1  CA1MB000296  20170101  PRCP    0  NaN  NaN  N NaN\n",
       "2  ASN00015643  20170101  TMAX  274  NaN  NaN  a NaN\n",
       "3  ASN00015643  20170101  TMIN  218  NaN  NaN  a NaN\n",
       "4  ASN00015643  20170101  PRCP    2  NaN  NaN  a NaN"
      ]
     },
     "execution_count": 2,
     "metadata": {},
     "output_type": "execute_result"
    }
   ],
   "source": [
    "df_2017 = pd.read_csv(\"../2017.csv\", low_memory=False, encoding = \"ISO-8859-1\",  header=None)\n",
    "df_2017.head()\n",
    "# df_2017.reset_index()"
   ]
  },
  {
   "cell_type": "code",
   "execution_count": 3,
   "metadata": {
    "collapsed": true
   },
   "outputs": [],
   "source": [
    "df_2017.rename(index=int,columns = {0:'ID',1:'date', 2:'element',3:'data_value',4:'mFlag',5:'qFlag',6:'sFlag',7:'obsTime'}, inplace=True)"
   ]
  },
  {
   "cell_type": "code",
   "execution_count": 11,
   "metadata": {},
   "outputs": [
    {
     "data": {
      "text/html": [
       "<div>\n",
       "<style scoped>\n",
       "    .dataframe tbody tr th:only-of-type {\n",
       "        vertical-align: middle;\n",
       "    }\n",
       "\n",
       "    .dataframe tbody tr th {\n",
       "        vertical-align: top;\n",
       "    }\n",
       "\n",
       "    .dataframe thead th {\n",
       "        text-align: right;\n",
       "    }\n",
       "</style>\n",
       "<table border=\"1\" class=\"dataframe\">\n",
       "  <thead>\n",
       "    <tr style=\"text-align: right;\">\n",
       "      <th></th>\n",
       "      <th>ID</th>\n",
       "      <th>date</th>\n",
       "      <th>element</th>\n",
       "      <th>data_value</th>\n",
       "      <th>mFlag</th>\n",
       "      <th>qFlag</th>\n",
       "      <th>sFlag</th>\n",
       "      <th>obsTime</th>\n",
       "    </tr>\n",
       "  </thead>\n",
       "  <tbody>\n",
       "    <tr>\n",
       "      <th>1648587</th>\n",
       "      <td>USC00242275</td>\n",
       "      <td>20170118</td>\n",
       "      <td>SNWD</td>\n",
       "      <td>0</td>\n",
       "      <td>T</td>\n",
       "      <td>I</td>\n",
       "      <td>7</td>\n",
       "      <td>800.0</td>\n",
       "    </tr>\n",
       "    <tr>\n",
       "      <th>5274622</th>\n",
       "      <td>USC00479304</td>\n",
       "      <td>20170224</td>\n",
       "      <td>SNWD</td>\n",
       "      <td>0</td>\n",
       "      <td>T</td>\n",
       "      <td>I</td>\n",
       "      <td>7</td>\n",
       "      <td>900.0</td>\n",
       "    </tr>\n",
       "    <tr>\n",
       "      <th>5487604</th>\n",
       "      <td>RQC00664614</td>\n",
       "      <td>20170226</td>\n",
       "      <td>PRCP</td>\n",
       "      <td>0</td>\n",
       "      <td>T</td>\n",
       "      <td>L</td>\n",
       "      <td>7</td>\n",
       "      <td>800.0</td>\n",
       "    </tr>\n",
       "    <tr>\n",
       "      <th>5752573</th>\n",
       "      <td>USC00471416</td>\n",
       "      <td>20170301</td>\n",
       "      <td>SNWD</td>\n",
       "      <td>0</td>\n",
       "      <td>T</td>\n",
       "      <td>I</td>\n",
       "      <td>7</td>\n",
       "      <td>800.0</td>\n",
       "    </tr>\n",
       "    <tr>\n",
       "      <th>5752579</th>\n",
       "      <td>USC00472973</td>\n",
       "      <td>20170301</td>\n",
       "      <td>SNWD</td>\n",
       "      <td>0</td>\n",
       "      <td>T</td>\n",
       "      <td>I</td>\n",
       "      <td>7</td>\n",
       "      <td>700.0</td>\n",
       "    </tr>\n",
       "  </tbody>\n",
       "</table>\n",
       "</div>"
      ],
      "text/plain": [
       "                  ID      date element  data_value mFlag qFlag sFlag  obsTime\n",
       "1648587  USC00242275  20170118    SNWD           0     T     I     7    800.0\n",
       "5274622  USC00479304  20170224    SNWD           0     T     I     7    900.0\n",
       "5487604  RQC00664614  20170226    PRCP           0     T     L     7    800.0\n",
       "5752573  USC00471416  20170301    SNWD           0     T     I     7    800.0\n",
       "5752579  USC00472973  20170301    SNWD           0     T     I     7    700.0"
      ]
     },
     "execution_count": 11,
     "metadata": {},
     "output_type": "execute_result"
    }
   ],
   "source": [
    "df_2017.head()"
   ]
  },
  {
   "cell_type": "code",
   "execution_count": 5,
   "metadata": {},
   "outputs": [],
   "source": [
    "# column_1 = df_2017.ID.values\n",
    "# column_2 = df_2017.date.values\n",
    "\n",
    "\n",
    "# X = np.array(list(zip(column_1,column_2)))\n",
    "# X"
   ]
  },
  {
   "cell_type": "code",
   "execution_count": 17,
   "metadata": {
    "collapsed": true
   },
   "outputs": [],
   "source": [
    "# df_2017['merged_index'] = str(df_2017['ID'])+str(df_2017['date'])"
   ]
  },
  {
   "cell_type": "code",
   "execution_count": 7,
   "metadata": {},
   "outputs": [],
   "source": [
    "df_2017.isnull().sum()\n",
    "df_2017 = df_2017.dropna()"
   ]
  },
  {
   "cell_type": "code",
   "execution_count": 18,
   "metadata": {},
   "outputs": [],
   "source": [
    "values = ['PRCP','SNOW','SNWD','TMAX','TMIN']\n",
    "# df_2017 = df_2017.iloc[df_2017['element'] == 'PRCP','SNOW','SNWD','TMAX','TMIN']\n",
    "df_2017 = df_2017[df_2017['element'].isin(values)]\n"
   ]
  },
  {
   "cell_type": "code",
   "execution_count": 19,
   "metadata": {},
   "outputs": [
    {
     "name": "stdout",
     "output_type": "stream",
     "text": [
      "26279902\n",
      "['PRCP' 'TMAX' 'TMIN' 'SNOW' 'SNWD']\n"
     ]
    }
   ],
   "source": [
    "print(len(df_2017))\n",
    "print(df_2017.element.unique())"
   ]
  },
  {
   "cell_type": "code",
   "execution_count": 8,
   "metadata": {},
   "outputs": [
    {
     "data": {
      "text/html": [
       "<div>\n",
       "<style scoped>\n",
       "    .dataframe tbody tr th:only-of-type {\n",
       "        vertical-align: middle;\n",
       "    }\n",
       "\n",
       "    .dataframe tbody tr th {\n",
       "        vertical-align: top;\n",
       "    }\n",
       "\n",
       "    .dataframe thead th {\n",
       "        text-align: right;\n",
       "    }\n",
       "</style>\n",
       "<table border=\"1\" class=\"dataframe\">\n",
       "  <thead>\n",
       "    <tr style=\"text-align: right;\">\n",
       "      <th></th>\n",
       "      <th>ID</th>\n",
       "      <th>date</th>\n",
       "      <th>element</th>\n",
       "      <th>data_value</th>\n",
       "      <th>mFlag</th>\n",
       "      <th>qFlag</th>\n",
       "      <th>sFlag</th>\n",
       "      <th>obsTime</th>\n",
       "    </tr>\n",
       "  </thead>\n",
       "  <tbody>\n",
       "    <tr>\n",
       "      <th>1648587</th>\n",
       "      <td>USC00242275</td>\n",
       "      <td>20170118</td>\n",
       "      <td>SNWD</td>\n",
       "      <td>0</td>\n",
       "      <td>T</td>\n",
       "      <td>I</td>\n",
       "      <td>7</td>\n",
       "      <td>800.0</td>\n",
       "    </tr>\n",
       "    <tr>\n",
       "      <th>5274622</th>\n",
       "      <td>USC00479304</td>\n",
       "      <td>20170224</td>\n",
       "      <td>SNWD</td>\n",
       "      <td>0</td>\n",
       "      <td>T</td>\n",
       "      <td>I</td>\n",
       "      <td>7</td>\n",
       "      <td>900.0</td>\n",
       "    </tr>\n",
       "    <tr>\n",
       "      <th>5487604</th>\n",
       "      <td>RQC00664614</td>\n",
       "      <td>20170226</td>\n",
       "      <td>PRCP</td>\n",
       "      <td>0</td>\n",
       "      <td>T</td>\n",
       "      <td>L</td>\n",
       "      <td>7</td>\n",
       "      <td>800.0</td>\n",
       "    </tr>\n",
       "    <tr>\n",
       "      <th>5752573</th>\n",
       "      <td>USC00471416</td>\n",
       "      <td>20170301</td>\n",
       "      <td>SNWD</td>\n",
       "      <td>0</td>\n",
       "      <td>T</td>\n",
       "      <td>I</td>\n",
       "      <td>7</td>\n",
       "      <td>800.0</td>\n",
       "    </tr>\n",
       "    <tr>\n",
       "      <th>5752579</th>\n",
       "      <td>USC00472973</td>\n",
       "      <td>20170301</td>\n",
       "      <td>SNWD</td>\n",
       "      <td>0</td>\n",
       "      <td>T</td>\n",
       "      <td>I</td>\n",
       "      <td>7</td>\n",
       "      <td>700.0</td>\n",
       "    </tr>\n",
       "  </tbody>\n",
       "</table>\n",
       "</div>"
      ],
      "text/plain": [
       "                  ID      date element  data_value mFlag qFlag sFlag  obsTime\n",
       "1648587  USC00242275  20170118    SNWD           0     T     I     7    800.0\n",
       "5274622  USC00479304  20170224    SNWD           0     T     I     7    900.0\n",
       "5487604  RQC00664614  20170226    PRCP           0     T     L     7    800.0\n",
       "5752573  USC00471416  20170301    SNWD           0     T     I     7    800.0\n",
       "5752579  USC00472973  20170301    SNWD           0     T     I     7    700.0"
      ]
     },
     "execution_count": 8,
     "metadata": {},
     "output_type": "execute_result"
    }
   ],
   "source": [
    "df_2017.head()"
   ]
  },
  {
   "cell_type": "code",
   "execution_count": 21,
   "metadata": {
    "collapsed": true
   },
   "outputs": [],
   "source": [
    "df_unstacked = df_2017.pivot( columns='element', values='data_value')"
   ]
  },
  {
   "cell_type": "code",
   "execution_count": 22,
   "metadata": {},
   "outputs": [
    {
     "data": {
      "text/html": [
       "<div>\n",
       "<style scoped>\n",
       "    .dataframe tbody tr th:only-of-type {\n",
       "        vertical-align: middle;\n",
       "    }\n",
       "\n",
       "    .dataframe tbody tr th {\n",
       "        vertical-align: top;\n",
       "    }\n",
       "\n",
       "    .dataframe thead th {\n",
       "        text-align: right;\n",
       "    }\n",
       "</style>\n",
       "<table border=\"1\" class=\"dataframe\">\n",
       "  <thead>\n",
       "    <tr style=\"text-align: right;\">\n",
       "      <th>element</th>\n",
       "      <th>PRCP</th>\n",
       "      <th>SNOW</th>\n",
       "      <th>SNWD</th>\n",
       "      <th>TMAX</th>\n",
       "      <th>TMIN</th>\n",
       "    </tr>\n",
       "  </thead>\n",
       "  <tbody>\n",
       "    <tr>\n",
       "      <th>0</th>\n",
       "      <td>0.0</td>\n",
       "      <td>NaN</td>\n",
       "      <td>NaN</td>\n",
       "      <td>NaN</td>\n",
       "      <td>NaN</td>\n",
       "    </tr>\n",
       "    <tr>\n",
       "      <th>1</th>\n",
       "      <td>0.0</td>\n",
       "      <td>NaN</td>\n",
       "      <td>NaN</td>\n",
       "      <td>NaN</td>\n",
       "      <td>NaN</td>\n",
       "    </tr>\n",
       "    <tr>\n",
       "      <th>2</th>\n",
       "      <td>NaN</td>\n",
       "      <td>NaN</td>\n",
       "      <td>NaN</td>\n",
       "      <td>274.0</td>\n",
       "      <td>NaN</td>\n",
       "    </tr>\n",
       "    <tr>\n",
       "      <th>3</th>\n",
       "      <td>NaN</td>\n",
       "      <td>NaN</td>\n",
       "      <td>NaN</td>\n",
       "      <td>NaN</td>\n",
       "      <td>218.0</td>\n",
       "    </tr>\n",
       "    <tr>\n",
       "      <th>4</th>\n",
       "      <td>2.0</td>\n",
       "      <td>NaN</td>\n",
       "      <td>NaN</td>\n",
       "      <td>NaN</td>\n",
       "      <td>NaN</td>\n",
       "    </tr>\n",
       "  </tbody>\n",
       "</table>\n",
       "</div>"
      ],
      "text/plain": [
       "element  PRCP  SNOW  SNWD   TMAX   TMIN\n",
       "0         0.0   NaN   NaN    NaN    NaN\n",
       "1         0.0   NaN   NaN    NaN    NaN\n",
       "2         NaN   NaN   NaN  274.0    NaN\n",
       "3         NaN   NaN   NaN    NaN  218.0\n",
       "4         2.0   NaN   NaN    NaN    NaN"
      ]
     },
     "execution_count": 22,
     "metadata": {},
     "output_type": "execute_result"
    }
   ],
   "source": [
    "df_unstacked.head()"
   ]
  },
  {
   "cell_type": "code",
   "execution_count": 10,
   "metadata": {},
   "outputs": [
    {
     "data": {
      "text/plain": [
       "array(['SNWD', 'PRCP'], dtype=object)"
      ]
     },
     "execution_count": 10,
     "metadata": {},
     "output_type": "execute_result"
    }
   ],
   "source": [
    "df_2017['element'].unique()"
   ]
  },
  {
   "cell_type": "code",
   "execution_count": 24,
   "metadata": {
    "collapsed": true
   },
   "outputs": [],
   "source": [
    "#df_2017['merged'] = df_2017[['ID', 'date']].apply(lambda x: ''.join(str(x)), axis = 0)\n",
    "df_2017['merged'] = df_2017['ID'].combine_first(df_2017['date'])"
   ]
  },
  {
   "cell_type": "code",
   "execution_count": 77,
   "metadata": {},
   "outputs": [
    {
     "data": {
      "text/html": [
       "<div>\n",
       "<style>\n",
       "    .dataframe thead tr:only-child th {\n",
       "        text-align: right;\n",
       "    }\n",
       "\n",
       "    .dataframe thead th {\n",
       "        text-align: left;\n",
       "    }\n",
       "\n",
       "    .dataframe tbody tr th {\n",
       "        vertical-align: top;\n",
       "    }\n",
       "</style>\n",
       "<table border=\"1\" class=\"dataframe\">\n",
       "  <thead>\n",
       "    <tr style=\"text-align: right;\">\n",
       "      <th></th>\n",
       "      <th>ID</th>\n",
       "      <th>date</th>\n",
       "    </tr>\n",
       "  </thead>\n",
       "  <tbody>\n",
       "    <tr>\n",
       "      <th>0</th>\n",
       "      <td>US1MNWR0029</td>\n",
       "      <td>20170101</td>\n",
       "    </tr>\n",
       "    <tr>\n",
       "      <th>1</th>\n",
       "      <td>CA1MB000296</td>\n",
       "      <td>20170101</td>\n",
       "    </tr>\n",
       "    <tr>\n",
       "      <th>2</th>\n",
       "      <td>ASN00015643</td>\n",
       "      <td>20170101</td>\n",
       "    </tr>\n",
       "    <tr>\n",
       "      <th>3</th>\n",
       "      <td>ASN00015643</td>\n",
       "      <td>20170101</td>\n",
       "    </tr>\n",
       "    <tr>\n",
       "      <th>4</th>\n",
       "      <td>ASN00015643</td>\n",
       "      <td>20170101</td>\n",
       "    </tr>\n",
       "  </tbody>\n",
       "</table>\n",
       "</div>"
      ],
      "text/plain": [
       "            ID      date\n",
       "0  US1MNWR0029  20170101\n",
       "1  CA1MB000296  20170101\n",
       "2  ASN00015643  20170101\n",
       "3  ASN00015643  20170101\n",
       "4  ASN00015643  20170101"
      ]
     },
     "execution_count": 77,
     "metadata": {},
     "output_type": "execute_result"
    }
   ],
   "source": [
    "df_idd = pd.DataFrame(df_2017[['ID', 'date']])\n",
    "df_idd.head()"
   ]
  },
  {
   "cell_type": "code",
   "execution_count": 26,
   "metadata": {
    "collapsed": true
   },
   "outputs": [],
   "source": [
    "df_2017['merged'] = df_2017[['ID','date']].apply(lambda x : '{}{}'.format(x[0],x[1]), axis=1)\n"
   ]
  },
  {
   "cell_type": "code",
   "execution_count": 31,
   "metadata": {},
   "outputs": [
    {
     "data": {
      "text/html": [
       "<div>\n",
       "<style scoped>\n",
       "    .dataframe tbody tr th:only-of-type {\n",
       "        vertical-align: middle;\n",
       "    }\n",
       "\n",
       "    .dataframe tbody tr th {\n",
       "        vertical-align: top;\n",
       "    }\n",
       "\n",
       "    .dataframe thead th {\n",
       "        text-align: right;\n",
       "    }\n",
       "</style>\n",
       "<table border=\"1\" class=\"dataframe\">\n",
       "  <thead>\n",
       "    <tr style=\"text-align: right;\">\n",
       "      <th></th>\n",
       "      <th>ID</th>\n",
       "      <th>date</th>\n",
       "      <th>element</th>\n",
       "      <th>data_value</th>\n",
       "      <th>mFlag</th>\n",
       "      <th>qFlag</th>\n",
       "      <th>sFlag</th>\n",
       "      <th>obsTime</th>\n",
       "      <th>merged_index</th>\n",
       "      <th>merged</th>\n",
       "    </tr>\n",
       "  </thead>\n",
       "  <tbody>\n",
       "    <tr>\n",
       "      <th>0</th>\n",
       "      <td>US1MNWR0029</td>\n",
       "      <td>20170101</td>\n",
       "      <td>PRCP</td>\n",
       "      <td>0</td>\n",
       "      <td>NaN</td>\n",
       "      <td>NaN</td>\n",
       "      <td>N</td>\n",
       "      <td>NaN</td>\n",
       "      <td>0           US1MNWR0029\\n1           CA1MB0002...</td>\n",
       "      <td>US1MNWR002920170101</td>\n",
       "    </tr>\n",
       "    <tr>\n",
       "      <th>1</th>\n",
       "      <td>CA1MB000296</td>\n",
       "      <td>20170101</td>\n",
       "      <td>PRCP</td>\n",
       "      <td>0</td>\n",
       "      <td>NaN</td>\n",
       "      <td>NaN</td>\n",
       "      <td>N</td>\n",
       "      <td>NaN</td>\n",
       "      <td>0           US1MNWR0029\\n1           CA1MB0002...</td>\n",
       "      <td>CA1MB00029620170101</td>\n",
       "    </tr>\n",
       "    <tr>\n",
       "      <th>2</th>\n",
       "      <td>ASN00015643</td>\n",
       "      <td>20170101</td>\n",
       "      <td>TMAX</td>\n",
       "      <td>274</td>\n",
       "      <td>NaN</td>\n",
       "      <td>NaN</td>\n",
       "      <td>a</td>\n",
       "      <td>NaN</td>\n",
       "      <td>0           US1MNWR0029\\n1           CA1MB0002...</td>\n",
       "      <td>ASN0001564320170101</td>\n",
       "    </tr>\n",
       "    <tr>\n",
       "      <th>3</th>\n",
       "      <td>ASN00015643</td>\n",
       "      <td>20170101</td>\n",
       "      <td>TMIN</td>\n",
       "      <td>218</td>\n",
       "      <td>NaN</td>\n",
       "      <td>NaN</td>\n",
       "      <td>a</td>\n",
       "      <td>NaN</td>\n",
       "      <td>0           US1MNWR0029\\n1           CA1MB0002...</td>\n",
       "      <td>ASN0001564320170101</td>\n",
       "    </tr>\n",
       "    <tr>\n",
       "      <th>4</th>\n",
       "      <td>ASN00015643</td>\n",
       "      <td>20170101</td>\n",
       "      <td>PRCP</td>\n",
       "      <td>2</td>\n",
       "      <td>NaN</td>\n",
       "      <td>NaN</td>\n",
       "      <td>a</td>\n",
       "      <td>NaN</td>\n",
       "      <td>0           US1MNWR0029\\n1           CA1MB0002...</td>\n",
       "      <td>ASN0001564320170101</td>\n",
       "    </tr>\n",
       "  </tbody>\n",
       "</table>\n",
       "</div>"
      ],
      "text/plain": [
       "            ID      date element  data_value mFlag qFlag sFlag  obsTime  \\\n",
       "0  US1MNWR0029  20170101    PRCP           0   NaN   NaN     N      NaN   \n",
       "1  CA1MB000296  20170101    PRCP           0   NaN   NaN     N      NaN   \n",
       "2  ASN00015643  20170101    TMAX         274   NaN   NaN     a      NaN   \n",
       "3  ASN00015643  20170101    TMIN         218   NaN   NaN     a      NaN   \n",
       "4  ASN00015643  20170101    PRCP           2   NaN   NaN     a      NaN   \n",
       "\n",
       "                                        merged_index               merged  \n",
       "0  0           US1MNWR0029\\n1           CA1MB0002...  US1MNWR002920170101  \n",
       "1  0           US1MNWR0029\\n1           CA1MB0002...  CA1MB00029620170101  \n",
       "2  0           US1MNWR0029\\n1           CA1MB0002...  ASN0001564320170101  \n",
       "3  0           US1MNWR0029\\n1           CA1MB0002...  ASN0001564320170101  \n",
       "4  0           US1MNWR0029\\n1           CA1MB0002...  ASN0001564320170101  "
      ]
     },
     "execution_count": 31,
     "metadata": {},
     "output_type": "execute_result"
    }
   ],
   "source": [
    "df_2017.head()"
   ]
  },
  {
   "cell_type": "code",
   "execution_count": 28,
   "metadata": {
    "collapsed": true
   },
   "outputs": [],
   "source": [
    "df_unstacked = df_2017.pivot( index='merged', columns='element', values='data_value')"
   ]
  },
  {
   "cell_type": "code",
   "execution_count": 32,
   "metadata": {},
   "outputs": [
    {
     "data": {
      "text/html": [
       "<div>\n",
       "<style scoped>\n",
       "    .dataframe tbody tr th:only-of-type {\n",
       "        vertical-align: middle;\n",
       "    }\n",
       "\n",
       "    .dataframe tbody tr th {\n",
       "        vertical-align: top;\n",
       "    }\n",
       "\n",
       "    .dataframe thead th {\n",
       "        text-align: right;\n",
       "    }\n",
       "</style>\n",
       "<table border=\"1\" class=\"dataframe\">\n",
       "  <thead>\n",
       "    <tr style=\"text-align: right;\">\n",
       "      <th>element</th>\n",
       "      <th>PRCP</th>\n",
       "      <th>SNOW</th>\n",
       "      <th>SNWD</th>\n",
       "      <th>TMAX</th>\n",
       "      <th>TMIN</th>\n",
       "    </tr>\n",
       "    <tr>\n",
       "      <th>merged</th>\n",
       "      <th></th>\n",
       "      <th></th>\n",
       "      <th></th>\n",
       "      <th></th>\n",
       "      <th></th>\n",
       "    </tr>\n",
       "  </thead>\n",
       "  <tbody>\n",
       "    <tr>\n",
       "      <th>AE00004119620170102</th>\n",
       "      <td>NaN</td>\n",
       "      <td>NaN</td>\n",
       "      <td>NaN</td>\n",
       "      <td>264.0</td>\n",
       "      <td>NaN</td>\n",
       "    </tr>\n",
       "    <tr>\n",
       "      <th>AE00004119620170103</th>\n",
       "      <td>NaN</td>\n",
       "      <td>NaN</td>\n",
       "      <td>NaN</td>\n",
       "      <td>NaN</td>\n",
       "      <td>156.0</td>\n",
       "    </tr>\n",
       "    <tr>\n",
       "      <th>AE00004119620170105</th>\n",
       "      <td>NaN</td>\n",
       "      <td>NaN</td>\n",
       "      <td>NaN</td>\n",
       "      <td>NaN</td>\n",
       "      <td>176.0</td>\n",
       "    </tr>\n",
       "    <tr>\n",
       "      <th>AE00004119620170107</th>\n",
       "      <td>NaN</td>\n",
       "      <td>NaN</td>\n",
       "      <td>NaN</td>\n",
       "      <td>NaN</td>\n",
       "      <td>130.0</td>\n",
       "    </tr>\n",
       "    <tr>\n",
       "      <th>AE00004119620170108</th>\n",
       "      <td>NaN</td>\n",
       "      <td>NaN</td>\n",
       "      <td>NaN</td>\n",
       "      <td>251.0</td>\n",
       "      <td>128.0</td>\n",
       "    </tr>\n",
       "  </tbody>\n",
       "</table>\n",
       "</div>"
      ],
      "text/plain": [
       "element              PRCP  SNOW  SNWD   TMAX   TMIN\n",
       "merged                                             \n",
       "AE00004119620170102   NaN   NaN   NaN  264.0    NaN\n",
       "AE00004119620170103   NaN   NaN   NaN    NaN  156.0\n",
       "AE00004119620170105   NaN   NaN   NaN    NaN  176.0\n",
       "AE00004119620170107   NaN   NaN   NaN    NaN  130.0\n",
       "AE00004119620170108   NaN   NaN   NaN  251.0  128.0"
      ]
     },
     "execution_count": 32,
     "metadata": {},
     "output_type": "execute_result"
    }
   ],
   "source": [
    "df_unstacked.head()"
   ]
  },
  {
   "cell_type": "code",
   "execution_count": 33,
   "metadata": {},
   "outputs": [
    {
     "data": {
      "text/plain": [
       "element\n",
       "PRCP    1069540\n",
       "SNOW    6755255\n",
       "SNWD    7840264\n",
       "TMAX    6578286\n",
       "TMIN    6550348\n",
       "dtype: int64"
      ]
     },
     "execution_count": 33,
     "metadata": {},
     "output_type": "execute_result"
    }
   ],
   "source": [
    "df_unstacked.isnull().sum()"
   ]
  },
  {
   "cell_type": "code",
   "execution_count": 35,
   "metadata": {},
   "outputs": [
    {
     "data": {
      "text/plain": [
       "11014719"
      ]
     },
     "execution_count": 35,
     "metadata": {},
     "output_type": "execute_result"
    }
   ],
   "source": [
    "len(df_unstacked)"
   ]
  },
  {
   "cell_type": "code",
   "execution_count": 41,
   "metadata": {
    "collapsed": true
   },
   "outputs": [],
   "source": [
    "linreg = LinearRegression()"
   ]
  },
  {
   "cell_type": "code",
   "execution_count": 52,
   "metadata": {
    "collapsed": true
   },
   "outputs": [],
   "source": [
    "df_unstacked = df_unstacked.dropna()"
   ]
  },
  {
   "cell_type": "code",
   "execution_count": 53,
   "metadata": {},
   "outputs": [],
   "source": [
    "feature_data = df_unstacked[['PRCP','SNOW','SNWD','TMAX']]\n",
    "target_data = df_unstacked[['TMIN']]"
   ]
  },
  {
   "cell_type": "code",
   "execution_count": 54,
   "metadata": {},
   "outputs": [],
   "source": [
    "X, X_test, y, y_test = train_test_split(feature_data, target_data, test_size = 0.3 , random_state=100)"
   ]
  },
  {
   "cell_type": "code",
   "execution_count": 55,
   "metadata": {},
   "outputs": [
    {
     "data": {
      "text/plain": [
       "1463443"
      ]
     },
     "execution_count": 55,
     "metadata": {},
     "output_type": "execute_result"
    }
   ],
   "source": [
    "len(df_unstacked)"
   ]
  },
  {
   "cell_type": "code",
   "execution_count": 56,
   "metadata": {},
   "outputs": [],
   "source": [
    "linreg = LinearRegression()\n",
    "linreg = linreg.fit(X, y)\n"
   ]
  },
  {
   "cell_type": "code",
   "execution_count": 61,
   "metadata": {},
   "outputs": [
    {
     "name": "stdout",
     "output_type": "stream",
     "text": [
      "0.805397297588\n",
      "0.80622495296\n"
     ]
    }
   ],
   "source": [
    "print(linreg.score(X,y))\n",
    "print(linreg.score(X_test,y_test))"
   ]
  },
  {
   "cell_type": "code",
   "execution_count": 65,
   "metadata": {},
   "outputs": [
    {
     "name": "stdout",
     "output_type": "stream",
     "text": [
      "Mean squared error: 2147.14\n"
     ]
    }
   ],
   "source": [
    "y_pred = linreg.predict(X_test)\n",
    "\n",
    "print(\"Mean squared error: %.2f\"\n",
    "     % mean_squared_error(y_test, y_pred))\n",
    "# Explained variance score: 1 is perfect prediction\n",
    "# print('Variance score: %.2f' % r2_score(y, y_pred))"
   ]
  },
  {
   "cell_type": "code",
   "execution_count": null,
   "metadata": {
    "collapsed": true
   },
   "outputs": [],
   "source": []
  },
  {
   "cell_type": "code",
   "execution_count": null,
   "metadata": {
    "collapsed": true
   },
   "outputs": [],
   "source": []
  }
 ],
 "metadata": {
  "anaconda-cloud": {},
  "kernelspec": {
   "display_name": "Python 3",
   "language": "python",
   "name": "python3"
  },
  "language_info": {
   "codemirror_mode": {
    "name": "ipython",
    "version": 3
   },
   "file_extension": ".py",
   "mimetype": "text/x-python",
   "name": "python",
   "nbconvert_exporter": "python",
   "pygments_lexer": "ipython3",
   "version": "3.6.1"
  }
 },
 "nbformat": 4,
 "nbformat_minor": 1
}
