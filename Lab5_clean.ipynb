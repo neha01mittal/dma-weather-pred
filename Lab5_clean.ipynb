{
 "cells": [
  {
   "cell_type": "markdown",
   "metadata": {},
   "source": [
    "### LAB 5 [CLEAN COPY]"
   ]
  },
  {
   "cell_type": "code",
   "execution_count": 1,
   "metadata": {
    "collapsed": true
   },
   "outputs": [],
   "source": [
    "import sklearn\n",
    "import matplotlib.pyplot as plt\n",
    "from typing import Tuple\n",
    "from typing import List\n",
    "\n",
    "%matplotlib inline\n",
    "\n",
    "import numpy as np\n",
    "import pandas as pd\n",
    "import scipy\n",
    "import pandas as pd \n",
    "from sklearn import linear_model\n",
    "from sklearn.model_selection import train_test_split, GridSearchCV, cross_val_score\n",
    "from sklearn.ensemble import RandomForestClassifier\n",
    "from sklearn.metrics import confusion_matrix\n",
    "from sklearn.metrics import roc_curve, auc, classification_report, precision_recall_curve, average_precision_score\n",
    "import matplotlib\n",
    "import matplotlib.pyplot as plt\n",
    "from IPython.display import display, HTML\n",
    "from sklearn.metrics import precision_recall_curve\n",
    "from sklearn.ensemble import GradientBoostingClassifier"
   ]
  },
  {
   "cell_type": "code",
   "execution_count": null,
   "metadata": {
    "collapsed": true
   },
   "outputs": [],
   "source": [
    "run()\n",
    "\n",
    "def run():\n",
    "    years = ['2014', '2015', '2016', '2017']\n",
    "    for year in years:\n",
    "        "
   ]
  },
  {
   "cell_type": "code",
   "execution_count": 132,
   "metadata": {},
   "outputs": [
    {
     "data": {
      "text/html": [
       "<div>\n",
       "<style>\n",
       "    .dataframe thead tr:only-child th {\n",
       "        text-align: right;\n",
       "    }\n",
       "\n",
       "    .dataframe thead th {\n",
       "        text-align: left;\n",
       "    }\n",
       "\n",
       "    .dataframe tbody tr th {\n",
       "        vertical-align: top;\n",
       "    }\n",
       "</style>\n",
       "<table border=\"1\" class=\"dataframe\">\n",
       "  <thead>\n",
       "    <tr style=\"text-align: right;\">\n",
       "      <th></th>\n",
       "      <th>0</th>\n",
       "      <th>1</th>\n",
       "      <th>2</th>\n",
       "      <th>3</th>\n",
       "      <th>4</th>\n",
       "      <th>5</th>\n",
       "      <th>6</th>\n",
       "      <th>7</th>\n",
       "    </tr>\n",
       "  </thead>\n",
       "  <tbody>\n",
       "    <tr>\n",
       "      <th>0</th>\n",
       "      <td>ASN00015643</td>\n",
       "      <td>20140101</td>\n",
       "      <td>TMIN</td>\n",
       "      <td>227</td>\n",
       "      <td>NaN</td>\n",
       "      <td>NaN</td>\n",
       "      <td>a</td>\n",
       "      <td>NaN</td>\n",
       "    </tr>\n",
       "    <tr>\n",
       "      <th>1</th>\n",
       "      <td>ASN00085296</td>\n",
       "      <td>20140101</td>\n",
       "      <td>TMIN</td>\n",
       "      <td>131</td>\n",
       "      <td>NaN</td>\n",
       "      <td>NaN</td>\n",
       "      <td>a</td>\n",
       "      <td>NaN</td>\n",
       "    </tr>\n",
       "    <tr>\n",
       "      <th>2</th>\n",
       "      <td>ASN00085280</td>\n",
       "      <td>20140101</td>\n",
       "      <td>TMIN</td>\n",
       "      <td>84</td>\n",
       "      <td>NaN</td>\n",
       "      <td>NaN</td>\n",
       "      <td>a</td>\n",
       "      <td>NaN</td>\n",
       "    </tr>\n",
       "    <tr>\n",
       "      <th>3</th>\n",
       "      <td>CA005030984</td>\n",
       "      <td>20140101</td>\n",
       "      <td>TMIN</td>\n",
       "      <td>-315</td>\n",
       "      <td>NaN</td>\n",
       "      <td>NaN</td>\n",
       "      <td>C</td>\n",
       "      <td>NaN</td>\n",
       "    </tr>\n",
       "    <tr>\n",
       "      <th>4</th>\n",
       "      <td>CA003076680</td>\n",
       "      <td>20140101</td>\n",
       "      <td>TMIN</td>\n",
       "      <td>-207</td>\n",
       "      <td>NaN</td>\n",
       "      <td>NaN</td>\n",
       "      <td>C</td>\n",
       "      <td>NaN</td>\n",
       "    </tr>\n",
       "    <tr>\n",
       "      <th>5</th>\n",
       "      <td>CA003072151</td>\n",
       "      <td>20140101</td>\n",
       "      <td>TMIN</td>\n",
       "      <td>-258</td>\n",
       "      <td>NaN</td>\n",
       "      <td>NaN</td>\n",
       "      <td>C</td>\n",
       "      <td>NaN</td>\n",
       "    </tr>\n",
       "    <tr>\n",
       "      <th>6</th>\n",
       "      <td>CA003031094</td>\n",
       "      <td>20140101</td>\n",
       "      <td>TMIN</td>\n",
       "      <td>-96</td>\n",
       "      <td>NaN</td>\n",
       "      <td>NaN</td>\n",
       "      <td>C</td>\n",
       "      <td>NaN</td>\n",
       "    </tr>\n",
       "    <tr>\n",
       "      <th>7</th>\n",
       "      <td>ASN00068151</td>\n",
       "      <td>20140101</td>\n",
       "      <td>TMIN</td>\n",
       "      <td>172</td>\n",
       "      <td>NaN</td>\n",
       "      <td>NaN</td>\n",
       "      <td>a</td>\n",
       "      <td>NaN</td>\n",
       "    </tr>\n",
       "    <tr>\n",
       "      <th>8</th>\n",
       "      <td>ARM00087582</td>\n",
       "      <td>20140101</td>\n",
       "      <td>TMIN</td>\n",
       "      <td>228</td>\n",
       "      <td>NaN</td>\n",
       "      <td>NaN</td>\n",
       "      <td>S</td>\n",
       "      <td>NaN</td>\n",
       "    </tr>\n",
       "    <tr>\n",
       "      <th>9</th>\n",
       "      <td>USW00024061</td>\n",
       "      <td>20140101</td>\n",
       "      <td>TMIN</td>\n",
       "      <td>-93</td>\n",
       "      <td>NaN</td>\n",
       "      <td>NaN</td>\n",
       "      <td>W</td>\n",
       "      <td>NaN</td>\n",
       "    </tr>\n",
       "  </tbody>\n",
       "</table>\n",
       "</div>"
      ],
      "text/plain": [
       "             0         1     2    3    4    5  6   7\n",
       "0  ASN00015643  20140101  TMIN  227  NaN  NaN  a NaN\n",
       "1  ASN00085296  20140101  TMIN  131  NaN  NaN  a NaN\n",
       "2  ASN00085280  20140101  TMIN   84  NaN  NaN  a NaN\n",
       "3  CA005030984  20140101  TMIN -315  NaN  NaN  C NaN\n",
       "4  CA003076680  20140101  TMIN -207  NaN  NaN  C NaN\n",
       "5  CA003072151  20140101  TMIN -258  NaN  NaN  C NaN\n",
       "6  CA003031094  20140101  TMIN  -96  NaN  NaN  C NaN\n",
       "7  ASN00068151  20140101  TMIN  172  NaN  NaN  a NaN\n",
       "8  ARM00087582  20140101  TMIN  228  NaN  NaN  S NaN\n",
       "9  USW00024061  20140101  TMIN  -93  NaN  NaN  W NaN"
      ]
     },
     "execution_count": 132,
     "metadata": {},
     "output_type": "execute_result"
    }
   ],
   "source": [
    "# df_2017 = pd.read_csv(\"data/2017.csv.gz\",low_memory=False, encoding = \"ISO-8859-1\", nrows=100000, header=None)\n",
    "\n",
    "df_2017 = pd.read_csv(\"data/2017_TMIN.csv\", low_memory=False, encoding = \"ISO-8859-1\", header=None)\n",
    "df_2016 = pd.read_csv(\"data/2016_TMIN.csv\", low_memory=False, encoding = \"ISO-8859-1\", header=None)\n",
    "df_2015 = pd.read_csv(\"data/2015_TMIN.csv\", low_memory=False, encoding = \"ISO-8859-1\", header=None)\n",
    "df_2014 = pd.read_csv(\"data/2014_TMIN.csv\", low_memory=False, encoding = \"ISO-8859-1\", header=None)\n",
    "\n",
    "\n",
    "df_2017.head()\n",
    "df_2017.reset_index()\n",
    "df_2014.head(10)"
   ]
  },
  {
   "cell_type": "code",
   "execution_count": 193,
   "metadata": {},
   "outputs": [
    {
     "data": {
      "text/html": [
       "<div>\n",
       "<style>\n",
       "    .dataframe thead tr:only-child th {\n",
       "        text-align: right;\n",
       "    }\n",
       "\n",
       "    .dataframe thead th {\n",
       "        text-align: left;\n",
       "    }\n",
       "\n",
       "    .dataframe tbody tr th {\n",
       "        vertical-align: top;\n",
       "    }\n",
       "</style>\n",
       "<table border=\"1\" class=\"dataframe\">\n",
       "  <thead>\n",
       "    <tr style=\"text-align: right;\">\n",
       "      <th></th>\n",
       "      <th>ID</th>\n",
       "      <th>DATE</th>\n",
       "      <th>date_mm_dd</th>\n",
       "    </tr>\n",
       "  </thead>\n",
       "  <tbody>\n",
       "    <tr>\n",
       "      <th>0</th>\n",
       "      <td>ASN00015643</td>\n",
       "      <td>20180101</td>\n",
       "      <td>0101</td>\n",
       "    </tr>\n",
       "    <tr>\n",
       "      <th>1</th>\n",
       "      <td>ASN00085296</td>\n",
       "      <td>20180101</td>\n",
       "      <td>0101</td>\n",
       "    </tr>\n",
       "    <tr>\n",
       "      <th>2</th>\n",
       "      <td>ASN00085280</td>\n",
       "      <td>20180101</td>\n",
       "      <td>0101</td>\n",
       "    </tr>\n",
       "    <tr>\n",
       "      <th>3</th>\n",
       "      <td>CA005030984</td>\n",
       "      <td>20180101</td>\n",
       "      <td>0101</td>\n",
       "    </tr>\n",
       "    <tr>\n",
       "      <th>4</th>\n",
       "      <td>CA003076680</td>\n",
       "      <td>20180101</td>\n",
       "      <td>0101</td>\n",
       "    </tr>\n",
       "  </tbody>\n",
       "</table>\n",
       "</div>"
      ],
      "text/plain": [
       "            ID      DATE date_mm_dd\n",
       "0  ASN00015643  20180101       0101\n",
       "1  ASN00085296  20180101       0101\n",
       "2  ASN00085280  20180101       0101\n",
       "3  CA005030984  20180101       0101\n",
       "4  CA003076680  20180101       0101"
      ]
     },
     "execution_count": 193,
     "metadata": {},
     "output_type": "execute_result"
    }
   ],
   "source": [
    "df_2018_test = pd.read_csv(\"data/2018_test.csv\", low_memory=False, encoding = \"ISO-8859-1\")\n",
    "df_2018_test.head()\n",
    "df_2018_test['date_mm_dd'] = create_date_mm_dd(df_2018_test['DATE'].astype('str'))\n",
    "df_2018_test.head()"
   ]
  },
  {
   "cell_type": "code",
   "execution_count": 133,
   "metadata": {
    "collapsed": true
   },
   "outputs": [],
   "source": [
    "def rename_columns(df):\n",
    "    df.rename(index=int,columns = {0:'ID',1:'date', 2:'element',3:'data_value',4:'mFlag',5:'qFlag',6:'sFlag',7:'obsTime'}, inplace=True)"
   ]
  },
  {
   "cell_type": "code",
   "execution_count": 134,
   "metadata": {
    "collapsed": true
   },
   "outputs": [],
   "source": [
    "rename_columns(df_2017)\n",
    "rename_columns(df_2016)\n",
    "rename_columns(df_2015)\n",
    "rename_columns(df_2014)\n"
   ]
  },
  {
   "cell_type": "code",
   "execution_count": 135,
   "metadata": {},
   "outputs": [
    {
     "name": "stdout",
     "output_type": "stream",
     "text": [
      "            ID      date element  data_value mFlag qFlag sFlag  obsTime  \\\n",
      "0  ASN00015643  20140101    TMIN         227   NaN   NaN     a      NaN   \n",
      "1  ASN00085296  20140101    TMIN         131   NaN   NaN     a      NaN   \n",
      "2  ASN00085280  20140101    TMIN          84   NaN   NaN     a      NaN   \n",
      "3  CA005030984  20140101    TMIN        -315   NaN   NaN     C      NaN   \n",
      "4  CA003076680  20140101    TMIN        -207   NaN   NaN     C      NaN   \n",
      "\n",
      "                merged  \n",
      "0  ASN0001564320140101  \n",
      "1  ASN0008529620140101  \n",
      "2  ASN0008528020140101  \n",
      "3  CA00503098420140101  \n",
      "4  CA00307668020140101  \n"
     ]
    }
   ],
   "source": [
    "def merge(df):\n",
    "    return df[['ID','date']].apply(lambda x : '{}{}'.format(x[0],x[1]), axis=1)\n",
    "df_2017['merged'] = merge(df_2017)\n",
    "df_2016['merged'] = merge(df_2016)\n",
    "df_2015['merged'] = merge(df_2015)\n",
    "df_2014['merged'] = merge(df_2014)\n",
    "print(df_2014.head())"
   ]
  },
  {
   "cell_type": "code",
   "execution_count": 136,
   "metadata": {},
   "outputs": [
    {
     "data": {
      "text/plain": [
       "Index(['ID', 'date', 'element', 'data_value', 'mFlag', 'qFlag', 'sFlag',\n",
       "       'obsTime', 'merged'],\n",
       "      dtype='object')"
      ]
     },
     "execution_count": 136,
     "metadata": {},
     "output_type": "execute_result"
    }
   ],
   "source": [
    "df_2014.columns"
   ]
  },
  {
   "cell_type": "code",
   "execution_count": 139,
   "metadata": {},
   "outputs": [
    {
     "name": "stdout",
     "output_type": "stream",
     "text": [
      "672650\n"
     ]
    }
   ],
   "source": [
    "print(len(df_2014))"
   ]
  },
  {
   "cell_type": "code",
   "execution_count": 140,
   "metadata": {
    "collapsed": true
   },
   "outputs": [],
   "source": [
    "def pivot(df):\n",
    "    return df.pivot_table( index=['merged','date', 'ID'], columns='element', values='data_value')\n",
    "df_2017_pivoted = pivot(df_2017)\n",
    "df_2016_pivoted = pivot(df_2016)\n",
    "df_2015_pivoted = pivot(df_2015)\n",
    "df_2014_pivoted = pivot(df_2014)\n",
    "\n",
    "df_2017_pivoted.reset_index(inplace=True)\n",
    "df_2016_pivoted.reset_index(inplace=True)\n",
    "df_2015_pivoted.reset_index(inplace=True)\n",
    "df_2014_pivoted.reset_index(inplace=True)\n",
    "\n",
    "# df = df.pivot_table(\n",
    "#     values='value',\n",
    "#     index=['stream_name', 'preferred_timestamp', 'internal_timestamp'],\n",
    "#     columns='value_id'\n",
    "#     )"
   ]
  },
  {
   "cell_type": "code",
   "execution_count": 141,
   "metadata": {},
   "outputs": [
    {
     "data": {
      "text/html": [
       "<div>\n",
       "<style>\n",
       "    .dataframe thead tr:only-child th {\n",
       "        text-align: right;\n",
       "    }\n",
       "\n",
       "    .dataframe thead th {\n",
       "        text-align: left;\n",
       "    }\n",
       "\n",
       "    .dataframe tbody tr th {\n",
       "        vertical-align: top;\n",
       "    }\n",
       "</style>\n",
       "<table border=\"1\" class=\"dataframe\">\n",
       "  <thead>\n",
       "    <tr style=\"text-align: right;\">\n",
       "      <th>element</th>\n",
       "      <th>merged</th>\n",
       "      <th>date</th>\n",
       "      <th>ID</th>\n",
       "      <th>TMIN</th>\n",
       "    </tr>\n",
       "  </thead>\n",
       "  <tbody>\n",
       "    <tr>\n",
       "      <th>0</th>\n",
       "      <td>AE00004119620170103</td>\n",
       "      <td>20170103</td>\n",
       "      <td>AE000041196</td>\n",
       "      <td>156</td>\n",
       "    </tr>\n",
       "    <tr>\n",
       "      <th>1</th>\n",
       "      <td>AE00004119620170105</td>\n",
       "      <td>20170105</td>\n",
       "      <td>AE000041196</td>\n",
       "      <td>176</td>\n",
       "    </tr>\n",
       "    <tr>\n",
       "      <th>2</th>\n",
       "      <td>AE00004119620170107</td>\n",
       "      <td>20170107</td>\n",
       "      <td>AE000041196</td>\n",
       "      <td>130</td>\n",
       "    </tr>\n",
       "    <tr>\n",
       "      <th>3</th>\n",
       "      <td>AE00004119620170108</td>\n",
       "      <td>20170108</td>\n",
       "      <td>AE000041196</td>\n",
       "      <td>128</td>\n",
       "    </tr>\n",
       "    <tr>\n",
       "      <th>4</th>\n",
       "      <td>AE00004119620170109</td>\n",
       "      <td>20170109</td>\n",
       "      <td>AE000041196</td>\n",
       "      <td>126</td>\n",
       "    </tr>\n",
       "  </tbody>\n",
       "</table>\n",
       "</div>"
      ],
      "text/plain": [
       "element               merged      date           ID  TMIN\n",
       "0        AE00004119620170103  20170103  AE000041196   156\n",
       "1        AE00004119620170105  20170105  AE000041196   176\n",
       "2        AE00004119620170107  20170107  AE000041196   130\n",
       "3        AE00004119620170108  20170108  AE000041196   128\n",
       "4        AE00004119620170109  20170109  AE000041196   126"
      ]
     },
     "execution_count": 141,
     "metadata": {},
     "output_type": "execute_result"
    }
   ],
   "source": [
    "df_2017_pivoted.head()"
   ]
  },
  {
   "cell_type": "code",
   "execution_count": 142,
   "metadata": {
    "scrolled": true
   },
   "outputs": [
    {
     "name": "stdout",
     "output_type": "stream",
     "text": [
      "element               merged      date           ID  TMIN\n",
      "0        AE00004119620170103  20170103  AE000041196   156\n",
      "1        AE00004119620170105  20170105  AE000041196   176\n",
      "2        AE00004119620170107  20170107  AE000041196   130\n",
      "3        AE00004119620170108  20170108  AE000041196   128\n",
      "4        AE00004119620170109  20170109  AE000041196   126\n",
      "element               merged      date           ID  TMIN\n",
      "0        AE00004119620160101  20160101  AE000041196   155\n",
      "1        AE00004119620160102  20160102  AE000041196   188\n",
      "2        AE00004119620160105  20160105  AE000041196   139\n",
      "3        AE00004119620160108  20160108  AE000041196   147\n",
      "4        AE00004119620160109  20160109  AE000041196   136\n",
      "element               merged      date           ID  TMIN\n",
      "0        AE00004119620150101  20150101  AE000041196   125\n",
      "1        AE00004119620150102  20150102  AE000041196   127\n",
      "2        AE00004119620150103  20150103  AE000041196   140\n",
      "3        AE00004119620150107  20150107  AE000041196   136\n",
      "4        AE00004119620150111  20150111  AE000041196   100\n",
      "element               merged      date           ID  TMIN\n",
      "0        AE00004119620140101  20140101  AE000041196   128\n",
      "1        AE00004119620140102  20140102  AE000041196   145\n",
      "2        AE00004119620140103  20140103  AE000041196   140\n",
      "3        AE00004119620140106  20140106  AE000041196   162\n",
      "4        AE00004119620140109  20140109  AE000041196   115\n"
     ]
    }
   ],
   "source": [
    "print(df_2017_pivoted.head())\n",
    "print(df_2016_pivoted.head())\n",
    "print(df_2015_pivoted.head())\n",
    "print(df_2014_pivoted.head())\n"
   ]
  },
  {
   "cell_type": "code",
   "execution_count": null,
   "metadata": {
    "collapsed": true
   },
   "outputs": [],
   "source": []
  },
  {
   "cell_type": "code",
   "execution_count": 143,
   "metadata": {
    "collapsed": true
   },
   "outputs": [],
   "source": [
    "import re\n",
    "def split_it(date):\n",
    "    return re.findall('(\\d\\d\\d\\d)$', date)[0]\n",
    "\n",
    "def create_date_mm_dd(date):\n",
    "    return date.apply(split_it)"
   ]
  },
  {
   "cell_type": "code",
   "execution_count": 144,
   "metadata": {
    "collapsed": true
   },
   "outputs": [],
   "source": [
    "from functools import reduce\n",
    "def df_merge_tmin_years(df1, df2):\n",
    "   # return pd.merge(df1, df2, df3, df4, on=['ID', 'date_mm_dd'], how='outer')\n",
    "    return pd.merge(df1, df2, how='outer', on=['ID', 'date_mm_dd'])\n",
    "   # return reduce(lambda left,right: pd.merge(left,right,on=['ID', 'date_mm_dd'], how='outer'), dfs)"
   ]
  },
  {
   "cell_type": "code",
   "execution_count": 145,
   "metadata": {
    "collapsed": true
   },
   "outputs": [],
   "source": [
    "df_2017_pivoted['date_mm_dd'] = create_date_mm_dd(df_2017_pivoted['date'].astype('str'))\n",
    "df_2016_pivoted['date_mm_dd'] = create_date_mm_dd(df_2016_pivoted['date'].astype('str'))\n",
    "df_2015_pivoted['date_mm_dd'] = create_date_mm_dd(df_2015_pivoted['date'].astype('str'))\n",
    "df_2014_pivoted['date_mm_dd'] = create_date_mm_dd(df_2014_pivoted['date'].astype('str'))\n"
   ]
  },
  {
   "cell_type": "code",
   "execution_count": 147,
   "metadata": {},
   "outputs": [
    {
     "data": {
      "text/plain": [
       "634291"
      ]
     },
     "execution_count": 147,
     "metadata": {},
     "output_type": "execute_result"
    }
   ],
   "source": [
    "len(df_2017_pivoted)"
   ]
  },
  {
   "cell_type": "code",
   "execution_count": 148,
   "metadata": {
    "collapsed": true
   },
   "outputs": [],
   "source": [
    "def tmin_rename(df, year):\n",
    "    df.rename(index=str ,columns = {'TMIN':'TMIN_%s'% year}, inplace=True)\n",
    "\n",
    "tmin_rename(df_2014_pivoted, '2014')\n",
    "tmin_rename(df_2015_pivoted, '2015')\n",
    "tmin_rename(df_2016_pivoted, '2016')\n",
    "tmin_rename(df_2017_pivoted, '2017')"
   ]
  },
  {
   "cell_type": "code",
   "execution_count": 149,
   "metadata": {},
   "outputs": [
    {
     "data": {
      "text/plain": [
       "Index(['merged', 'date', 'ID', 'TMIN_2014', 'date_mm_dd'], dtype='object', name='element')"
      ]
     },
     "execution_count": 149,
     "metadata": {},
     "output_type": "execute_result"
    }
   ],
   "source": [
    "df_2014_pivoted.columns"
   ]
  },
  {
   "cell_type": "code",
   "execution_count": 150,
   "metadata": {
    "collapsed": true
   },
   "outputs": [],
   "source": [
    "df_compiled_2017_2016 = df_merge_tmin_years(df_2017_pivoted, df_2016_pivoted)\n",
    "df_compiled_2017_2016_2015 = df_merge_tmin_years(df_compiled_2017_2016, df_2015_pivoted)\n",
    "df_compiled_2017_2016_2015_2014 = df_merge_tmin_years(df_compiled_2017_2016_2015, df_2014_pivoted)\n"
   ]
  },
  {
   "cell_type": "code",
   "execution_count": 151,
   "metadata": {
    "collapsed": true
   },
   "outputs": [],
   "source": [
    "df_clean = df_compiled_2017_2016_2015_2014[['date_mm_dd', 'ID', 'TMIN_2014', 'TMIN_2015', 'TMIN_2016', 'TMIN_2017' ]]"
   ]
  },
  {
   "cell_type": "code",
   "execution_count": 155,
   "metadata": {},
   "outputs": [
    {
     "name": "stdout",
     "output_type": "stream",
     "text": [
      "element date_mm_dd           ID  TMIN_2014  TMIN_2015  TMIN_2016  TMIN_2017\n",
      "0             0103  AE000041196      140.0      140.0        NaN      156.0\n",
      "1             0105  AE000041196        NaN        NaN      139.0      176.0\n",
      "2             0107  AE000041196        NaN      136.0        NaN      130.0\n",
      "3             0108  AE000041196        NaN        NaN      147.0      128.0\n",
      "4             0109  AE000041196      115.0        NaN      136.0      126.0\n",
      "element\n",
      "date_mm_dd         0\n",
      "ID                 0\n",
      "TMIN_2014      97077\n",
      "TMIN_2015     104439\n",
      "TMIN_2016     117329\n",
      "TMIN_2017     135436\n",
      "dtype: int64\n",
      "769727\n"
     ]
    }
   ],
   "source": [
    "print(df_clean.head())\n",
    "print(df_clean.isnull().sum())\n",
    "print(len(df_clean))\n"
   ]
  },
  {
   "cell_type": "code",
   "execution_count": 197,
   "metadata": {},
   "outputs": [
    {
     "name": "stderr",
     "output_type": "stream",
     "text": [
      "/Library/Frameworks/Python.framework/Versions/3.6/lib/python3.6/site-packages/ipykernel_launcher.py:5: SettingWithCopyWarning: \n",
      "A value is trying to be set on a copy of a slice from a DataFrame.\n",
      "Try using .loc[row_indexer,col_indexer] = value instead\n",
      "\n",
      "See the caveats in the documentation: http://pandas.pydata.org/pandas-docs/stable/indexing.html#indexing-view-versus-copy\n",
      "  \"\"\"\n"
     ]
    }
   ],
   "source": [
    "def get_avg_2018(df):\n",
    "    return df.mean(axis = 1, skipna=True)\n",
    "    #return df\n",
    "\n",
    "df_clean['mean'] = get_avg_2018(df_clean[['TMIN_2014', 'TMIN_2015', 'TMIN_2016', 'TMIN_2017' ]])\n",
    "\n"
   ]
  },
  {
   "cell_type": "code",
   "execution_count": 198,
   "metadata": {},
   "outputs": [
    {
     "name": "stdout",
     "output_type": "stream",
     "text": [
      "769727\n",
      "769727\n"
     ]
    }
   ],
   "source": [
    "print(len(df_2018))\n",
    "print(len(df_clean))"
   ]
  },
  {
   "cell_type": "code",
   "execution_count": 201,
   "metadata": {},
   "outputs": [
    {
     "data": {
      "text/plain": [
       "element\n",
       "date_mm_dd         0\n",
       "ID                 0\n",
       "TMIN_2014      97077\n",
       "TMIN_2015     104439\n",
       "TMIN_2016     117329\n",
       "TMIN_2017     135436\n",
       "mean               0\n",
       "dtype: int64"
      ]
     },
     "execution_count": 201,
     "metadata": {},
     "output_type": "execute_result"
    }
   ],
   "source": [
    "df_clean.isnull().sum()"
   ]
  },
  {
   "cell_type": "code",
   "execution_count": 208,
   "metadata": {},
   "outputs": [
    {
     "data": {
      "text/plain": [
       "397804"
      ]
     },
     "execution_count": 208,
     "metadata": {},
     "output_type": "execute_result"
    }
   ],
   "source": [
    "# Combine 2018 test data with average\n",
    "df_pred = pd.merge(df_2018_test, df_clean, how='left', on=['ID', 'date_mm_dd'])\n",
    "df_pred[df_pred['mean'].isnull()]\n"
   ]
  },
  {
   "cell_type": "code",
   "execution_count": 222,
   "metadata": {},
   "outputs": [
    {
     "name": "stderr",
     "output_type": "stream",
     "text": [
      "/Library/Frameworks/Python.framework/Versions/3.6/lib/python3.6/site-packages/pandas/core/generic.py:3660: SettingWithCopyWarning: \n",
      "A value is trying to be set on a copy of a slice from a DataFrame\n",
      "\n",
      "See the caveats in the documentation: http://pandas.pydata.org/pandas-docs/stable/indexing.html#indexing-view-versus-copy\n",
      "  self._update_inplace(new_data)\n",
      "/Library/Frameworks/Python.framework/Versions/3.6/lib/python3.6/site-packages/ipykernel_launcher.py:3: SettingWithCopyWarning: \n",
      "A value is trying to be set on a copy of a slice from a DataFrame.\n",
      "Try using .loc[row_indexer,col_indexer] = value instead\n",
      "\n",
      "See the caveats in the documentation: http://pandas.pydata.org/pandas-docs/stable/indexing.html#indexing-view-versus-copy\n",
      "  This is separate from the ipykernel package so we can avoid doing imports until\n"
     ]
    }
   ],
   "source": [
    "df_pred_formatted = df_pred[['ID', 'DATE', 'mean']]\n",
    "df_pred_formatted['mean'].fillna(0, inplace=True)\n",
    "df_pred_formatted['SUB_ID'] = df_pred_formatted[['DATE','ID']].apply(lambda x : '{}{}'.format(x[0],x[1]), axis=1)\n"
   ]
  },
  {
   "cell_type": "code",
   "execution_count": 228,
   "metadata": {
    "collapsed": true
   },
   "outputs": [],
   "source": [
    "df_final = df_pred_formatted[['SUB_ID', 'mean']]"
   ]
  },
  {
   "cell_type": "code",
   "execution_count": 231,
   "metadata": {},
   "outputs": [
    {
     "data": {
      "text/html": [
       "<div>\n",
       "<style>\n",
       "    .dataframe thead tr:only-child th {\n",
       "        text-align: right;\n",
       "    }\n",
       "\n",
       "    .dataframe thead th {\n",
       "        text-align: left;\n",
       "    }\n",
       "\n",
       "    .dataframe tbody tr th {\n",
       "        vertical-align: top;\n",
       "    }\n",
       "</style>\n",
       "<table border=\"1\" class=\"dataframe\">\n",
       "  <thead>\n",
       "    <tr style=\"text-align: right;\">\n",
       "      <th></th>\n",
       "      <th>SUB_ID</th>\n",
       "      <th>mean</th>\n",
       "    </tr>\n",
       "  </thead>\n",
       "  <tbody>\n",
       "    <tr>\n",
       "      <th>397799</th>\n",
       "      <td>20180220USC00304174</td>\n",
       "      <td>-100.0</td>\n",
       "    </tr>\n",
       "    <tr>\n",
       "      <th>397800</th>\n",
       "      <td>20180220USC00246647</td>\n",
       "      <td>-44.5</td>\n",
       "    </tr>\n",
       "    <tr>\n",
       "      <th>397801</th>\n",
       "      <td>20180220USC00094170</td>\n",
       "      <td>25.0</td>\n",
       "    </tr>\n",
       "    <tr>\n",
       "      <th>397802</th>\n",
       "      <td>20180220ROE00108889</td>\n",
       "      <td>12.0</td>\n",
       "    </tr>\n",
       "    <tr>\n",
       "      <th>397803</th>\n",
       "      <td>20180220USC00086092</td>\n",
       "      <td>116.5</td>\n",
       "    </tr>\n",
       "  </tbody>\n",
       "</table>\n",
       "</div>"
      ],
      "text/plain": [
       "                     SUB_ID   mean\n",
       "397799  20180220USC00304174 -100.0\n",
       "397800  20180220USC00246647  -44.5\n",
       "397801  20180220USC00094170   25.0\n",
       "397802  20180220ROE00108889   12.0\n",
       "397803  20180220USC00086092  116.5"
      ]
     },
     "execution_count": 231,
     "metadata": {},
     "output_type": "execute_result"
    }
   ],
   "source": [
    "df_final.tail()"
   ]
  },
  {
   "cell_type": "code",
   "execution_count": 232,
   "metadata": {
    "collapsed": true
   },
   "outputs": [],
   "source": [
    "df_final.to_csv('dma_submission_1.csv')"
   ]
  },
  {
   "cell_type": "code",
   "execution_count": null,
   "metadata": {
    "collapsed": true
   },
   "outputs": [],
   "source": []
  },
  {
   "cell_type": "code",
   "execution_count": null,
   "metadata": {
    "collapsed": true
   },
   "outputs": [],
   "source": []
  },
  {
   "cell_type": "code",
   "execution_count": null,
   "metadata": {
    "collapsed": true
   },
   "outputs": [],
   "source": []
  },
  {
   "cell_type": "code",
   "execution_count": null,
   "metadata": {
    "collapsed": true
   },
   "outputs": [],
   "source": []
  },
  {
   "cell_type": "code",
   "execution_count": null,
   "metadata": {
    "collapsed": true
   },
   "outputs": [],
   "source": []
  },
  {
   "cell_type": "code",
   "execution_count": null,
   "metadata": {
    "collapsed": true
   },
   "outputs": [],
   "source": []
  },
  {
   "cell_type": "code",
   "execution_count": null,
   "metadata": {
    "collapsed": true
   },
   "outputs": [],
   "source": []
  }
 ],
 "metadata": {
  "anaconda-cloud": {},
  "kernelspec": {
   "display_name": "Python 3",
   "language": "python",
   "name": "python3"
  },
  "language_info": {
   "codemirror_mode": {
    "name": "ipython",
    "version": 3
   },
   "file_extension": ".py",
   "mimetype": "text/x-python",
   "name": "python",
   "nbconvert_exporter": "python",
   "pygments_lexer": "ipython3",
   "version": "3.6.2"
  }
 },
 "nbformat": 4,
 "nbformat_minor": 1
}
